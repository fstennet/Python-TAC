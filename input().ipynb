{
  "nbformat": 4,
  "nbformat_minor": 0,
  "metadata": {
    "colab": {
      "name": "input().ipynb",
      "version": "0.3.2",
      "provenance": [],
      "collapsed_sections": [],
      "include_colab_link": true
    },
    "kernelspec": {
      "display_name": "Python 3",
      "language": "python",
      "name": "python3"
    }
  },
  "cells": [
    {
      "cell_type": "markdown",
      "metadata": {
        "id": "view-in-github",
        "colab_type": "text"
      },
      "source": [
        "<a href=\"https://colab.research.google.com/github/fstennet/Python-TAC/blob/master/input().ipynb\" target=\"_parent\"><img src=\"https://colab.research.google.com/assets/colab-badge.svg\" alt=\"Open In Colab\"/></a>"
      ]
    },
    {
      "metadata": {
        "id": "9W1Ap_aSANNm",
        "colab_type": "text"
      },
      "cell_type": "markdown",
      "source": [
        "# input()\n",
        "\n",
        "This function **stops** the script and **waits** for user input. Once the user enters data, the function will capture and convert it to a ***string***. Like the name says: it is one way to input data to a script.\n",
        "\n",
        "## Syntax:"
      ]
    },
    {
      "metadata": {
        "id": "t1Ws_LRmANNn",
        "colab_type": "code",
        "colab": {}
      },
      "cell_type": "code",
      "source": [
        "my_name = input('What is your name? ')\n",
        "print('Welcome: ', my_name)"
      ],
      "execution_count": 0,
      "outputs": []
    },
    {
      "metadata": {
        "id": "iX-SdthqANNr",
        "colab_type": "text"
      },
      "cell_type": "markdown",
      "source": [
        "It is very, *very*, **VERY** important to notice that the data captured by the input() function will always be a ***string***, no matter what the end used puts into it. \n",
        "\n",
        "If you are looking to capture numbers (integers or float), you can use a function to take the string and convert it:\n",
        "\n",
        "## Syntax:"
      ]
    },
    {
      "metadata": {
        "id": "jjX7dFExANNs",
        "colab_type": "code",
        "colab": {}
      },
      "cell_type": "code",
      "source": [
        "int_number = int(input('Enter a number from 1 to 10: '))\n",
        "print(int_number, 'x 2 =', int_number * 2)"
      ],
      "execution_count": 0,
      "outputs": []
    },
    {
      "metadata": {
        "id": "nocQIQVLANNu",
        "colab_type": "text"
      },
      "cell_type": "markdown",
      "source": [
        "### OR:"
      ]
    },
    {
      "metadata": {
        "id": "g95-KxpHANNv",
        "colab_type": "code",
        "colab": {}
      },
      "cell_type": "code",
      "source": [
        "float_number = float(input('Enter a number from 1.1 to 1.9: '))\n",
        "print(float_number, 'x 2 =', float_number * 2)"
      ],
      "execution_count": 0,
      "outputs": []
    }
  ]
}