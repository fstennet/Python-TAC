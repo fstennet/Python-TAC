{
  "nbformat": 4,
  "nbformat_minor": 0,
  "metadata": {
    "colab": {
      "name": "JSON.ipynb",
      "version": "0.3.2",
      "provenance": [],
      "collapsed_sections": [],
      "include_colab_link": true
    },
    "language_info": {
      "codemirror_mode": {
        "name": "ipython",
        "version": 3
      },
      "file_extension": ".py",
      "mimetype": "text/x-python",
      "name": "python",
      "nbconvert_exporter": "python",
      "pygments_lexer": "ipython3",
      "version": "3.5.2"
    },
    "kernelspec": {
      "display_name": "Python 3",
      "language": "python",
      "name": "python3"
    }
  },
  "cells": [
    {
      "cell_type": "markdown",
      "metadata": {
        "id": "view-in-github",
        "colab_type": "text"
      },
      "source": [
        "<a href=\"https://colab.research.google.com/github/fstennet/Python-TAC/blob/master/JSON.ipynb\" target=\"_parent\"><img src=\"https://colab.research.google.com/assets/colab-badge.svg\" alt=\"Open In Colab\"/></a>"
      ]
    },
    {
      "metadata": {
        "id": "ygBHEhchPGsa",
        "colab_type": "text"
      },
      "cell_type": "markdown",
      "source": [
        "**JavaScript Object Notation (JSON)** is a lightweight, text-based, language-independent data interchange format. JSON can represent four primitive types (strings, numbers, booleans, and null) and two structured types (objects and arrays).  \n",
        "\n",
        "This is a basic example of a JSON object:\n",
        "\n",
        "        {\n",
        "           \"precision\": \"zip\",\n",
        "           \"Latitude\":  37.7668,\n",
        "           \"Longitude\": -122.3959,\n",
        "           \"Address\":   \"\",\n",
        "           \"City\":      \"SAN FRANCISCO\",\n",
        "           \"State\":     \"CA\",\n",
        "           \"Zip\":       \"94107\",\n",
        "           \"Country\":   \"US\"\n",
        "        }\n",
        "        \n",
        "But why would use this structure if dictionaries already exists? Well, dictionaries only exist in the Python world but JSON objects are language independent.\n",
        "\n",
        "JSON shares a very similar structure to the Python's dictionary where data is stored in key-value pairs however, **Python can't manipulate a JSON object directly**, we must \"convert\" it to a dictionary first.\n",
        "\n",
        "This is what happens if we don't:"
      ]
    },
    {
      "metadata": {
        "id": "j4br9ZEcPGsb",
        "colab_type": "code",
        "colab": {}
      },
      "cell_type": "code",
      "source": [
        "with open('JSON_example', 'r') as json_object:\n",
        "    print(json_object['name'])"
      ],
      "execution_count": 0,
      "outputs": []
    },
    {
      "metadata": {
        "id": "Om5pIG_6PGse",
        "colab_type": "text"
      },
      "cell_type": "markdown",
      "source": [
        "So, how do we \"convert\" it? There's the [json library](https://docs.python.org/3/library/json.html), embedded into Python that can help us doing so.\n",
        "\n",
        "The **load()** method inside the json library will decode JSON objects (convert JSON to dictionary), **dumps()** will encode dictionary into JSON.\n",
        "\n",
        "## Example:\n",
        "\n",
        "The following script will read a text file that contains a JSON object and will print the value of the \"*Latitude*\" key."
      ]
    },
    {
      "metadata": {
        "id": "K1uwvn25PGse",
        "colab_type": "code",
        "colab": {}
      },
      "cell_type": "code",
      "source": [
        "import json\n",
        "\n",
        "with open('JSON_example', 'r') as json_object:\n",
        "    dictionary = json.load(json_object)\n",
        "    print(dictionary['Latitude'])"
      ],
      "execution_count": 0,
      "outputs": []
    },
    {
      "metadata": {
        "id": "JpCGsdZiPGsh",
        "colab_type": "text"
      },
      "cell_type": "markdown",
      "source": [
        "This other script will take a Python dictionary, encode it and save it into [this](https://jupyter.sykestech.com/user/python/edit/test.frank) text file:"
      ]
    },
    {
      "metadata": {
        "id": "0X6qD3Y7PGsi",
        "colab_type": "code",
        "colab": {}
      },
      "cell_type": "code",
      "source": [
        "import json\n",
        "\n",
        "my_dictionary = {'aaa': 'def', 'ghi': 'jkl'}\n",
        "with open('test.frank', 'w') as file:\n",
        "    json_object = json.dumps(my_dictionary)\n",
        "    file.write(json_object)\n",
        "    print('File successfully stored!')"
      ],
      "execution_count": 0,
      "outputs": []
    },
    {
      "metadata": {
        "id": "AaP4uNlPPGsk",
        "colab_type": "text"
      },
      "cell_type": "markdown",
      "source": [
        "A single JSON file can contain one or more objects. This is a good example:\n",
        "\n",
        "      [\n",
        "        {\n",
        "           \"precision\": \"zip\",\n",
        "           \"Latitude\":  37.7668,\n",
        "           \"Longitude\": -122.3959,\n",
        "           \"Address\":   \"\",\n",
        "           \"City\":      \"SAN FRANCISCO\",\n",
        "           \"State\":     \"CA\",\n",
        "           \"Zip\":       \"94107\",\n",
        "           \"Country\":   \"US\"\n",
        "        },\n",
        "        {\n",
        "           \"precision\": \"zip\",\n",
        "           \"Latitude\":  37.371991,\n",
        "           \"Longitude\": -122.026020,\n",
        "           \"Address\":   \"\",\n",
        "           \"City\":      \"SUNNYVALE\",\n",
        "           \"State\":     \"CA\",\n",
        "           \"Zip\":       \"94085\",\n",
        "           \"Country\":   \"US\"\n",
        "        }\n",
        "      ]\n",
        "      \n",
        "The above depicts an list of two objects. How to we manipulate it? \n",
        "\n",
        "## Example"
      ]
    },
    {
      "metadata": {
        "id": "frMr_3eMPGsl",
        "colab_type": "code",
        "colab": {}
      },
      "cell_type": "code",
      "source": [
        "import json\n",
        "\n",
        "with open('JSON_array', 'r') as json_object:\n",
        "    my_dictionary_list = json.load(json_object)\n",
        "    print(my_dictionary_list[1]['City']) # Here I tell Python to print the value of 'City' from the second object"
      ],
      "execution_count": 0,
      "outputs": []
    },
    {
      "metadata": {
        "id": "Wc1TNa7xPGso",
        "colab_type": "text"
      },
      "cell_type": "markdown",
      "source": [
        "To complicate things a bit more, you could also create **objects inside other objects**:\n",
        "\n",
        "      {\n",
        "        \"Image\": {\n",
        "            \"Width\":  800,\n",
        "            \"Height\": 600,\n",
        "            \"Title\":  \"View from 15th Floor\",\n",
        "            \"Thumbnail\": {\n",
        "                \"Url\":    \"http://www.example.com/image/481989943\",\n",
        "                \"Height\": 125,\n",
        "                \"Width\":  100\n",
        "            },\n",
        "            \"Animated\" : false,\n",
        "            \"IDs\": [116, 943, 234, 38793]\n",
        "          }\n",
        "      }\n",
        "      \n",
        "The JSON structure above contains the object 'Thumbnail' inside the object 'Image'. How do we parse it?"
      ]
    },
    {
      "metadata": {
        "id": "u9hQVs1MPGso",
        "colab_type": "code",
        "colab": {}
      },
      "cell_type": "code",
      "source": [
        "import json\n",
        "\n",
        "with open('JSON_multiple_object', 'r') as json_object:\n",
        "    nested_object_dictionary = json.load(json_object)\n",
        "    print(nested_object_dictionary['Image']['Thumbnail']['Url'])"
      ],
      "execution_count": 0,
      "outputs": []
    }
  ]
}