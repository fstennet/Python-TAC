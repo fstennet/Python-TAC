{
  "nbformat": 4,
  "nbformat_minor": 0,
  "metadata": {
    "colab": {
      "name": "print().ipynb",
      "version": "0.3.2",
      "provenance": [],
      "include_colab_link": true
    },
    "language_info": {
      "codemirror_mode": {
        "name": "ipython",
        "version": 3
      },
      "file_extension": ".py",
      "mimetype": "text/x-python",
      "name": "python",
      "nbconvert_exporter": "python",
      "pygments_lexer": "ipython3",
      "version": "3.5.2"
    },
    "kernelspec": {
      "display_name": "Python 3",
      "language": "python",
      "name": "python3"
    }
  },
  "cells": [
    {
      "cell_type": "markdown",
      "metadata": {
        "id": "view-in-github",
        "colab_type": "text"
      },
      "source": [
        "<a href=\"https://colab.research.google.com/github/fstennet/Python-TAC/blob/master/print().ipynb\" target=\"_parent\"><img src=\"https://colab.research.google.com/assets/colab-badge.svg\" alt=\"Open In Colab\"/></a>"
      ]
    },
    {
      "cell_type": "markdown",
      "metadata": {
        "id": "ilV6UaedWkiV",
        "colab_type": "text"
      },
      "source": [
        "This function prints characters (letters, numbers, symbols, etc...) into the console. Plain and simple (for a bit more detailed description go [here](https://docs.python.org/3.6/library/functions.html#print) or [here](https://docs.python.org/3.6/reference/simple_stmts.html#print))."
      ]
    },
    {
      "cell_type": "markdown",
      "metadata": {
        "id": "bHyVjH_gWkiW",
        "colab_type": "text"
      },
      "source": [
        "\n",
        "\n",
        "# Syntax:"
      ]
    },
    {
      "cell_type": "code",
      "metadata": {
        "scrolled": true,
        "id": "HAQLXVEbWkiX",
        "colab_type": "code",
        "colab": {}
      },
      "source": [
        "print(\"the thing go skraaa\")\n",
        "print(\"Hello World!\")\n",
        "print('This is my first Python script')"
      ],
      "execution_count": 0,
      "outputs": []
    },
    {
      "cell_type": "code",
      "metadata": {
        "id": "Qy3FfeIqWkia",
        "colab_type": "code",
        "colab": {}
      },
      "source": [
        "print('This will likely show an error message, notice we mixed single and double quotes\")"
      ],
      "execution_count": 0,
      "outputs": []
    },
    {
      "cell_type": "markdown",
      "metadata": {
        "id": "uVWxWnp4Wkid",
        "colab_type": "text"
      },
      "source": [
        "### Things to keep into consideration:\n",
        "\n",
        "* Character/numeric strings should **ALWAYS** be inside quotes.\n",
        "* You can choose whether use single quotes (') or double quotes (\") but Python will throw an error if you **combine** them in the same print function.\n",
        "\n",
        "\n",
        "## Optional arguments:\n",
        "\n",
        "This function accepts two particular arguments: ***end*** and ***sep***. Can you guess what each argument does?"
      ]
    },
    {
      "cell_type": "code",
      "metadata": {
        "id": "P2lCVPOqWkid",
        "colab_type": "code",
        "colab": {}
      },
      "source": [
        "print('This', 'is', 'my', 'first', 'Python', 'script', sep='-')"
      ],
      "execution_count": 0,
      "outputs": []
    },
    {
      "cell_type": "code",
      "metadata": {
        "id": "0f57dai0Wkig",
        "colab_type": "code",
        "colab": {}
      },
      "source": [
        "print('This is my first script', end='')\n",
        "print('This is my first script', end='')\n",
        "print('This is my first script', end='\\n\\n\\n')\n",
        "print('This is my first script', end='\\n\\n\\n')\n",
        "print('This is my first script', end='\\n')\n",
        "print('This is my first script', end='\\n')"
      ],
      "execution_count": 0,
      "outputs": []
    }
  ]
}