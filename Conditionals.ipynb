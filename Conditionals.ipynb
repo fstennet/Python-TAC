{
  "nbformat": 4,
  "nbformat_minor": 0,
  "metadata": {
    "colab": {
      "name": "Conditionals.ipynb",
      "version": "0.3.2",
      "provenance": [],
      "include_colab_link": true
    },
    "kernelspec": {
      "display_name": "Python 3",
      "language": "python",
      "name": "python3"
    }
  },
  "cells": [
    {
      "cell_type": "markdown",
      "metadata": {
        "id": "view-in-github",
        "colab_type": "text"
      },
      "source": [
        "<a href=\"https://colab.research.google.com/github/fstennet/Python-TAC/blob/master/Conditionals.ipynb\" target=\"_parent\"><img src=\"https://colab.research.google.com/assets/colab-badge.svg\" alt=\"Open In Colab\"/></a>"
      ]
    },
    {
      "metadata": {
        "id": "n42var4dsNkh",
        "colab_type": "text"
      },
      "cell_type": "markdown",
      "source": [
        "# Conditionals\n",
        "\n",
        "\n",
        "\n",
        "In order to write useful programs, we almost always need the ability to check conditions and change the behavior of the program accordingly. Conditional statements give us that ability.\n",
        "\n",
        "Conditionals in computer programming work like parent's curfews:  \"**IF** you don't come back home by 10pm, ***I will destroy this clock***\".\n",
        "\n",
        "![](https://drive.google.com/uc?export=view&id=1m2ODlCiYjMvaeO2NP_nkPXhFpK9M-kXq)\n",
        "\n",
        "\n",
        "What if you wanted to implement some logic to your script? The conditional \"IF\" will come in handy.\n",
        "\n",
        "### Syntax: "
      ]
    },
    {
      "metadata": {
        "id": "WhMVZESnsNki",
        "colab_type": "code",
        "colab": {}
      },
      "cell_type": "code",
      "source": [
        "name = input(\"What is your name? \")\n",
        "if name == \"Michael Scott\":                                      #<---- Evaluation\n",
        "    print(\"Welcome to the script\")                               #<---- Notice the indentation (sangria) in these two lines\n",
        "    print(\"Enter commands\")                                      #<---- Notice the indentation (sangria) in these two lines\n",
        "elif name == \"Pam Beasley\":                                      #<---- Another Evaluation\n",
        "    print(\"This script cannot be accessed by secretaries\")       #<---- Notice the indentation (sangria) in these two lines                      \n",
        "else:\n",
        "    print(\"You are not welcome here, we are calling the police\") #<--- and these other two lines \n",
        "    print(\"Beep, beep, beep... 9-1-1 what's your emergency?\")    #<--- and these other two lines\n",
        "print(\"Goodbye\")                                                 #<--- This other line is not indented, not part of the condition"
      ],
      "execution_count": 0,
      "outputs": []
    },
    {
      "metadata": {
        "id": "QQoXxEYZsNkm",
        "colab_type": "text"
      },
      "cell_type": "markdown",
      "source": [
        "Conditionals are usually represented in flowcharts like this:\n",
        "\n",
        "![](https://drive.google.com/uc?export=view&id=1QXVDkGJFXx-RghtwwU1Eg-tlx6ZGhlZB)\n",
        "\n",
        "- One other thing to notice is that the code below the **if** statement is executed *if* the condition is **True** (***lines 4 and 5***). \n",
        "- The code below the **else** statement is executed *if* the **if** statement is **False** (***lines 6 and 7***).\n",
        "- It is very important to notice the indentation in the lines below the **if** and **else** statements.\n",
        "\n",
        "----------------------------------------------------------------------------------------------------------------------------\n",
        "\n",
        "\n",
        "## Value Comparisons\n",
        "\n",
        "The operators `<`, `>`, `==`, `>=`, `<=`, and `!=` can be used to compare values/variables/data.\n",
        "\n",
        "### Syntax:"
      ]
    },
    {
      "metadata": {
        "id": "1W5nXQ5esNkn",
        "colab_type": "code",
        "colab": {}
      },
      "cell_type": "code",
      "source": [
        "zero = 0\n",
        "one = 1\n",
        "two = 2\n",
        "three = 3\n",
        "four = 4\n",
        "\n",
        "if zero < one:\n",
        "    print(zero, \"is more than\", one)\n",
        "if one > zero:\n",
        "    print(one, \"is more than\", four)\n",
        "if two == two:\n",
        "    print(two, \"is equal to\", two)\n",
        "if three != four:\n",
        "    print(three, \"is different than\", four)"
      ],
      "execution_count": 0,
      "outputs": []
    },
    {
      "metadata": {
        "id": "C9D8FZ3XsNkp",
        "colab_type": "text"
      },
      "cell_type": "markdown",
      "source": [
        "----------------------------------------------------------------------------------------------------------------------------\n",
        "\n",
        "\n",
        "## Membership Operations\n",
        "\n",
        "Python is flexible enough to help us knowing if a piece of data is inside another using `in` or `not in`. You could use this feature to look for a word inside of a large text.\n",
        "\n",
        "### Syntax:"
      ]
    },
    {
      "metadata": {
        "id": "ZRbNGdoHsNkq",
        "colab_type": "code",
        "colab": {}
      },
      "cell_type": "code",
      "source": [
        "aaee = \"Lorem ipsum dolor sit amet, consectetur adipiscing elit, sed do eiusmod tempor incididunt ut labore et dolore magna aliqua.\"\n",
        "if \"sed\" in aaee:\n",
        "    print(\"We found the letters \\'sed\\' inside the text\")"
      ],
      "execution_count": 0,
      "outputs": []
    },
    {
      "metadata": {
        "id": "MBoTDVjcsNkt",
        "colab_type": "text"
      },
      "cell_type": "markdown",
      "source": [
        "----------------------------------------------------------------------------------------------------------------------------\n",
        "\n",
        "## Boolean Operations\n",
        "\n",
        "You can also bundle conditionals together with AND/OR.\n",
        "\n",
        "### Syntax:"
      ]
    },
    {
      "metadata": {
        "id": "O_6PZ9T4sNku",
        "colab_type": "code",
        "colab": {}
      },
      "cell_type": "code",
      "source": [
        "authentication = input(\"What is your system level? (Admin, Manager, User, Guest)\")\n",
        "if authentication == \"Admin\" or authentication == \"Manager\":  #<---- This line evaluates of either of the conditions are True\n",
        "    print(\"Welcome to the most secret system\")                #<---- If either is True, we print this\n",
        "else:\n",
        "    print(\"Not authorized\")                                   #<---- If both are False, we print this\n",
        "    "
      ],
      "execution_count": 0,
      "outputs": []
    },
    {
      "metadata": {
        "id": "TNAsUFMYsNkw",
        "colab_type": "code",
        "colab": {}
      },
      "cell_type": "code",
      "source": [
        "name = input(\"Enter your name: \")\n",
        "last_name = input(\"Enter your last name: \")\n",
        "if name == \"Dwight\" and last_name == \"Schrute\":\n",
        "    print(\"Welcome, Master Dwight\")\n",
        "else:\n",
        "    print(\"Who are you?\")"
      ],
      "execution_count": 0,
      "outputs": []
    },
    {
      "metadata": {
        "id": "S76-Y4YlsNkz",
        "colab_type": "text"
      },
      "cell_type": "markdown",
      "source": [
        "----------------------------------------------------------------------------------------------------------------------------\n",
        "\n"
      ]
    }
  ]
}