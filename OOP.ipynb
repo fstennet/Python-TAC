{
  "nbformat": 4,
  "nbformat_minor": 0,
  "metadata": {
    "colab": {
      "name": "OOP.ipynb",
      "version": "0.3.2",
      "provenance": [],
      "private_outputs": true,
      "collapsed_sections": [],
      "include_colab_link": true
    },
    "kernelspec": {
      "name": "python3",
      "display_name": "Python 3"
    }
  },
  "cells": [
    {
      "cell_type": "markdown",
      "metadata": {
        "id": "view-in-github",
        "colab_type": "text"
      },
      "source": [
        "<a href=\"https://colab.research.google.com/github/fstennet/Python-TAC/blob/master/OOP.ipynb\" target=\"_parent\"><img src=\"https://colab.research.google.com/assets/colab-badge.svg\" alt=\"Open In Colab\"/></a>"
      ]
    },
    {
      "cell_type": "markdown",
      "metadata": {
        "id": "hsNhZmguwV1n",
        "colab_type": "text"
      },
      "source": [
        "# Object Oriented Programming\n",
        "\n",
        "Object oriented programming (OOP) is a programming style/model based on the concept of \"objects\". \n",
        "\n",
        "## What is an object?\n",
        "\n",
        "An `object` in real life is a thing that has features, characteristics or `attributes`, see these two examples of objects:\n",
        "\n",
        "![Ford%20Fusion%20OOP.jpg](https://drive.google.com/uc?export=view&id=1BxC1R6QGCoiA5MAYv-kmP_aM0TzOh6mK)\n",
        "\n",
        "![Ford%20Explorer%20OOP.jpg](https://drive.google.com/uc?export=view&id=1PniGUGs0ZpXsrDtabYIwhnUtrXKnQttG)\n",
        "\n",
        "We know the two `objects` are cars and that the two share features:\n",
        "- Make\n",
        "- Model\n",
        "- Tier\n",
        "- Year\n",
        "- Color\n",
        "\n",
        "You can create these same `objects` in Python like such:"
      ]
    },
    {
      "cell_type": "code",
      "metadata": {
        "id": "LjnkVmhswP3v",
        "colab_type": "code",
        "colab": {}
      },
      "source": [
        "class Car:\n",
        "    pass\n",
        "\n",
        "mycar = Car()\n",
        "mycar.make = 'Ford'\n",
        "mycar.model = 'Fusion'\n",
        "mycar.tier = 'Titanium'\n",
        "mycar.year = '2015'\n",
        "mycar.color = 'white'\n",
        "print('This is my car: {} {} {} {} {}' .format(mycar.make,\n",
        "                                               mycar.model,\n",
        "                                               mycar.tier,\n",
        "                                               mycar.year,\n",
        "                                               mycar.color))\n",
        "print('This is some information about the object: ', type(mycar))"
      ],
      "execution_count": 0,
      "outputs": []
    },
    {
      "cell_type": "markdown",
      "metadata": {
        "id": "kg-Yuf7xwc04",
        "colab_type": "text"
      },
      "source": [
        "The code above can be divided in three main parts:\n",
        "\n",
        "![OOP%20Car.png](https://drive.google.com/uc?export=view&id=1jqEj_tDjXlEX6odsbBTXqcJpteLyflKG)\n",
        "\n",
        "#### Class Definition:\n",
        "The place where you name the classes of objects you will create.\n",
        "\n",
        "#### Class Instantiation:\n",
        "This simply means that you created (`instantiated`) an object (named `mycar`) of certain class (`car`).\n",
        "\n",
        "#### Instance Attributes:\n",
        "You can add arbitrary `attributes` or features to the object.\n",
        "\n",
        "--------------------------------------------------------------------------------------------------------------------\n",
        "\n",
        "Once you create a class, you can `instantiate` it (create objects) as many times as you want. The code below shows how I created an object called `yourcar` from the `car` class.\n"
      ]
    },
    {
      "cell_type": "code",
      "metadata": {
        "id": "zCBW8LNrweBj",
        "colab_type": "code",
        "colab": {}
      },
      "source": [
        "yourcar = Car()\n",
        "yourcar.make = 'Ford'\n",
        "yourcar.model = 'Explorer'\n",
        "yourcar.tier = 'XLT'\n",
        "yourcar.year = '2015'\n",
        "yourcar.color = 'Blue'\n",
        "print('This is my car: ', yourcar.make, yourcar.model, yourcar.tier, yourcar.year, yourcar.color)"
      ],
      "execution_count": 0,
      "outputs": []
    },
    {
      "cell_type": "markdown",
      "metadata": {
        "id": "qfTVwuObwg0M",
        "colab_type": "text"
      },
      "source": [
        "--------------------------------------------------------------------------------------------------------------------\n",
        "\n",
        "Creating object `attributes` this way is time consuming. If you wanted to create a bunch of `objects` with the same `attributes` you should use the `__init__` `construnctor`."
      ]
    },
    {
      "cell_type": "code",
      "metadata": {
        "id": "WAb-zni6wkSf",
        "colab_type": "code",
        "colab": {}
      },
      "source": [
        "class Car:\n",
        "    def __init__(self, make, model, tier, year, color):\n",
        "        self.make = make\n",
        "        self.model = model\n",
        "        self.tier = tier\n",
        "        self.year = year\n",
        "        self.color = color\n",
        "        \n",
        "anothercar = Car('Ford', 'Ranger', 'Wildtrack', '2015', 'Orange')\n",
        "print('This is my car: ', anothercar.make, anothercar.model, anothercar.tier, anothercar.year, anothercar.color )"
      ],
      "execution_count": 0,
      "outputs": []
    },
    {
      "cell_type": "markdown",
      "metadata": {
        "id": "5Y3GDRLkwmuW",
        "colab_type": "text"
      },
      "source": [
        "### The `__init__` Constructor\n",
        "\n",
        "By creating a class method called `__init__`, you gain the ability to initialize your object with pre-defined `attributes` (make, model, tier, year, color). When you instantiate the `class` (create the anothercar object), you pass the data to the corresponding attribute.\n",
        "\n",
        "![__init__%20OOp.png](https://drive.google.com/uc?export=view&id=1XNQsCrj9g4r4d3zRlnDhR4fXQ8vYNsQw)"
      ]
    },
    {
      "cell_type": "markdown",
      "metadata": {
        "id": "2T3vPUblwsMD",
        "colab_type": "text"
      },
      "source": [
        "## Methods\n",
        "\n",
        "You can add functionality to an object by creating class functions (methods)."
      ]
    },
    {
      "cell_type": "code",
      "metadata": {
        "id": "XgFx4AW_wueO",
        "colab_type": "code",
        "colab": {}
      },
      "source": [
        "class Car:\n",
        "    def __init__(self, make, model, tier, year, color):\n",
        "        self.make = make\n",
        "        self.model = model\n",
        "        self.tier = tier\n",
        "        self.year = year\n",
        "        self.color = color\n",
        "    \n",
        "    def paint_car(self, new_color):\n",
        "        selection = input('Do you really want to paint your car ' + new_color + ' ? Y/N ')\n",
        "        if selection.lower() == 'y':\n",
        "            self.color = new_color\n",
        "        else:\n",
        "            print('OK, we won\\'t be painint the car')\n",
        "\n",
        "        \n",
        "        \n",
        "anothercar = Car('Ford', 'Ranger', 'Wildtrack', '2015', 'Orange')\n",
        "print('This is my car: ', anothercar.make, anothercar.model, anothercar.tier, anothercar.year, anothercar.color )\n",
        "new = input('The color of your car sucks, pick another color: Red, Black, Blue, Yellow')\n",
        "anothercar.paint_car(new)\n",
        "print('This is my car: ', anothercar.make, anothercar.model, anothercar.tier, anothercar.year, anothercar.color )"
      ],
      "execution_count": 0,
      "outputs": []
    }
  ]
}