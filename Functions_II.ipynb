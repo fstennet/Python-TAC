{
  "nbformat": 4,
  "nbformat_minor": 0,
  "metadata": {
    "colab": {
      "name": "Functions II.ipynb",
      "version": "0.3.2",
      "provenance": [],
      "collapsed_sections": [],
      "include_colab_link": true
    },
    "language_info": {
      "codemirror_mode": {
        "name": "ipython",
        "version": 3
      },
      "file_extension": ".py",
      "mimetype": "text/x-python",
      "name": "python",
      "nbconvert_exporter": "python",
      "pygments_lexer": "ipython3",
      "version": "3.5.2"
    },
    "kernelspec": {
      "display_name": "Python 3",
      "language": "python",
      "name": "python3"
    }
  },
  "cells": [
    {
      "cell_type": "markdown",
      "metadata": {
        "id": "view-in-github",
        "colab_type": "text"
      },
      "source": [
        "<a href=\"https://colab.research.google.com/github/fstennet/Python-TAC/blob/master/Functions_II.ipynb\" target=\"_parent\"><img src=\"https://colab.research.google.com/assets/colab-badge.svg\" alt=\"Open In Colab\"/></a>"
      ]
    },
    {
      "metadata": {
        "id": "AHOze1NKL79I",
        "colab_type": "text"
      },
      "cell_type": "markdown",
      "source": [
        "# Return\n",
        "\n",
        "So far, we have created scripts that start with the main code and `invoke` functions; usually the script ends when the `function` ends. Notice the following code: "
      ]
    },
    {
      "metadata": {
        "id": "i3NxraEOL79J",
        "colab_type": "code",
        "colab": {
          "base_uri": "https://localhost:8080/",
          "height": 68
        },
        "outputId": "91ed4603-04b1-4d6e-bcdc-f1d50c010843"
      },
      "cell_type": "code",
      "source": [
        "# Function\n",
        "def simple_function():\n",
        "    print('We are inside the function')\n",
        "    operation = 2 + 2\n",
        "    print('2 + 2 =', operation)\n",
        "    #The function and script end here\n",
        "    \n",
        "\n",
        "# Main code\n",
        "print('We are starting the script')\n",
        "simple_function()"
      ],
      "execution_count": 1,
      "outputs": [
        {
          "output_type": "stream",
          "text": [
            "We are starting the script\n",
            "We are inside the function\n",
            "2 + 2 = 4\n"
          ],
          "name": "stdout"
        }
      ]
    },
    {
      "metadata": {
        "id": "UAkT13LnL79L",
        "colab_type": "text"
      },
      "cell_type": "markdown",
      "source": [
        "But what if you wanted the `simple_function()` function to send the result of the operation back to the main code? `return` is the answer.\n",
        "\n",
        "### Syntax"
      ]
    },
    {
      "metadata": {
        "id": "wVun19XIL79M",
        "colab_type": "code",
        "colab": {
          "base_uri": "https://localhost:8080/",
          "height": 68
        },
        "outputId": "2ecd8fc3-76b0-40cb-e70e-36c0f1735acc"
      },
      "cell_type": "code",
      "source": [
        "# Function\n",
        "def simple_function():\n",
        "    print('We are inside the function')\n",
        "    operation = 2 + 2\n",
        "    return operation\n",
        "    #The function and script end here\n",
        "    \n",
        "\n",
        "# Main code\n",
        "print('We are starting the script')\n",
        "result_of_the_function = simple_function()\n",
        "print('2 + 2 =', result_of_the_function)"
      ],
      "execution_count": 2,
      "outputs": [
        {
          "output_type": "stream",
          "text": [
            "We are starting the script\n",
            "We are inside the function\n",
            "2 + 2 = 4\n"
          ],
          "name": "stdout"
        }
      ]
    },
    {
      "metadata": {
        "id": "PhjS8bsoL79P",
        "colab_type": "text"
      },
      "cell_type": "markdown",
      "source": [
        "![](https://drive.google.com/uc?export=view&id=1JB4khpMo_ucF5PluTF9kOfTIbcsq_20P)\n",
        "\n",
        "In plain english, the `return` function will pass any variable or data structure back to the caller code. In the script above, the `operation` variable is sent back to the main code and is now called `result_of_the_function` which we print in the next line.\n",
        "\n",
        "What the user sees in the console doesn't change "
      ]
    },
    {
      "metadata": {
        "id": "2lL-rWF4L79Q",
        "colab_type": "text"
      },
      "cell_type": "markdown",
      "source": [
        "------------------------------------------------------------------------------------------------------------------------\n",
        "\n",
        "## Yield"
      ]
    },
    {
      "metadata": {
        "id": "jMKcLL2rL79Q",
        "colab_type": "code",
        "colab": {
          "base_uri": "https://localhost:8080/",
          "height": 85
        },
        "outputId": "c0e8c72b-ee19-44a6-d7f9-4885736ab8b9"
      },
      "cell_type": "code",
      "source": [
        "# Function\n",
        "def weird():\n",
        "    print('We are inside the function')\n",
        "    operation = 2 + 2\n",
        "    yield operation\n",
        "    \n",
        "    operation = 4 + 4\n",
        "    yield operation\n",
        "    #The function and script end here\n",
        "    \n",
        "\n",
        "# Main code\n",
        "print('We are starting the script')\n",
        "generator = weird()\n",
        "for i in generator:\n",
        "    print(i)"
      ],
      "execution_count": 3,
      "outputs": [
        {
          "output_type": "stream",
          "text": [
            "We are starting the script\n",
            "We are inside the function\n",
            "4\n",
            "8\n"
          ],
          "name": "stdout"
        }
      ]
    },
    {
      "metadata": {
        "id": "IFxGwFC4L79U",
        "colab_type": "code",
        "colab": {}
      },
      "cell_type": "code",
      "source": [
        ""
      ],
      "execution_count": 0,
      "outputs": []
    }
  ]
}