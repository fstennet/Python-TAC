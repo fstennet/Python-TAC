{
  "nbformat": 4,
  "nbformat_minor": 0,
  "metadata": {
    "colab": {
      "name": "Class and Instance variables.ipynb",
      "version": "0.3.2",
      "provenance": [],
      "include_colab_link": true
    },
    "language_info": {
      "codemirror_mode": {
        "name": "ipython",
        "version": 3
      },
      "file_extension": ".py",
      "mimetype": "text/x-python",
      "name": "python",
      "nbconvert_exporter": "python",
      "pygments_lexer": "ipython3",
      "version": "3.5.2"
    },
    "kernelspec": {
      "display_name": "Python 3",
      "language": "python",
      "name": "python3"
    }
  },
  "cells": [
    {
      "cell_type": "markdown",
      "metadata": {
        "id": "view-in-github",
        "colab_type": "text"
      },
      "source": [
        "<a href=\"https://colab.research.google.com/github/fstennet/Python-TAC/blob/master/Class_and_Instance_variables.ipynb\" target=\"_parent\"><img src=\"https://colab.research.google.com/assets/colab-badge.svg\" alt=\"Open In Colab\"/></a>"
      ]
    },
    {
      "metadata": {
        "id": "E8UxWzYVKXzC",
        "colab_type": "text"
      },
      "cell_type": "markdown",
      "source": [
        "# Class Variables vs Instance Variables\n",
        "\n",
        "Take a look at the following two `classes`:"
      ]
    },
    {
      "metadata": {
        "id": "5BQk1iN6KXzD",
        "colab_type": "code",
        "colab": {}
      },
      "cell_type": "code",
      "source": [
        "class car:\n",
        "    def __init__(self):\n",
        "        self.manufacturer = 'Toyota'\n",
        "        self.model = 'Prado'\n",
        "\n",
        "class airplane:\n",
        "    manufacturer = 'Boeing'\n",
        "    \n",
        "    def __init__(self):\n",
        "        self.model = '747'\n",
        "        \n",
        "        \n",
        "my_car = car()        \n",
        "my_airplane = airplane()\n",
        "\n",
        "print('This is my car: ' + my_car.manufacturer + ' ' + my_car.model)\n",
        "print('This is my airplane: ' + my_airplane.manufacturer + ' ' + my_airplane.model)"
      ],
      "execution_count": 0,
      "outputs": []
    },
    {
      "metadata": {
        "id": "0rtqkrDNKXzF",
        "colab_type": "text"
      },
      "cell_type": "markdown",
      "source": [
        "Notice that both of them have two attributes: `manufacturer` and `model` and they seem to have the same purpose no matter if they are defined inside the `__init__` constructor or not.\n",
        "\n",
        "However, there's a **big** difference, the `manufacturer` attribute in the car class is an `Instance variable/attribute` and the `manufacturer` attribute in the airplane class is a `Class variable/attribute`.\n",
        "\n",
        "## Class Variables\n",
        "\n",
        "This variables are created and shared across all object from the same class. See the following example:"
      ]
    },
    {
      "metadata": {
        "id": "YeEGD_CBKXzG",
        "colab_type": "code",
        "colab": {}
      },
      "cell_type": "code",
      "source": [
        "import time\n",
        "\n",
        "class dog:\n",
        "    tricks = []\n",
        "    \n",
        "    def __init__(self):\n",
        "        self.name = input('Francisco: What\\'s his/her name? ')\n",
        "\n",
        "    def teach_trick(self):\n",
        "        print('Francisco: Wait until I teach him a new trick')\n",
        "        time.sleep(2)\n",
        "        self.tricks.append('Roll Over')\n",
        "        print('Francisco: Your dog knows how to', self.tricks)\n",
        "        print('Francisco: It\\'s $100')\n",
        "                          \n",
        "        \n",
        "print('''!!!!Welcome to Francisco\\'s Pet Shop!!!!\n",
        "Francisco: I will teach your dog a trick!!''')\n",
        "new_dog = dog()\n",
        "new_dog.teach_trick()"
      ],
      "execution_count": 0,
      "outputs": []
    },
    {
      "metadata": {
        "id": "5GUMXHbvKXzJ",
        "colab_type": "text"
      },
      "cell_type": "markdown",
      "source": [
        "This all seems normal but watch what happens if I try to register a new dow into Franciscos Pet Shop."
      ]
    },
    {
      "metadata": {
        "id": "ER_E4NwtKXzK",
        "colab_type": "code",
        "colab": {}
      },
      "cell_type": "code",
      "source": [
        "print('''!!!!Welcome to Francisco\\'s Pet Shop!!!!\n",
        "Francisco: I will teach your dog a trick!!''')\n",
        "some_other_dog = dog()\n",
        "some_other_dog.teach_trick()"
      ],
      "execution_count": 0,
      "outputs": []
    },
    {
      "metadata": {
        "id": "em-srWJEKXzM",
        "colab_type": "text"
      },
      "cell_type": "markdown",
      "source": [
        "## Instance Variables\n",
        "\n",
        "Instance variables are attributes unique to each instance of a class."
      ]
    }
  ]
}