{
  "nbformat": 4,
  "nbformat_minor": 0,
  "metadata": {
    "colab": {
      "name": "Tuples.ipynb",
      "version": "0.3.2",
      "provenance": [],
      "collapsed_sections": [],
      "include_colab_link": true
    },
    "language_info": {
      "codemirror_mode": {
        "name": "ipython",
        "version": 3
      },
      "file_extension": ".py",
      "mimetype": "text/x-python",
      "name": "python",
      "nbconvert_exporter": "python",
      "pygments_lexer": "ipython3",
      "version": "3.5.2"
    },
    "kernelspec": {
      "display_name": "Python 3",
      "language": "python",
      "name": "python3"
    }
  },
  "cells": [
    {
      "cell_type": "markdown",
      "metadata": {
        "id": "view-in-github",
        "colab_type": "text"
      },
      "source": [
        "<a href=\"https://colab.research.google.com/github/fstennet/Python-TAC/blob/master/Tuples.ipynb\" target=\"_parent\"><img src=\"https://colab.research.google.com/assets/colab-badge.svg\" alt=\"Open In Colab\"/></a>"
      ]
    },
    {
      "cell_type": "markdown",
      "metadata": {
        "id": "jlzAW87Ixt3t",
        "colab_type": "text"
      },
      "source": [
        "# Tuples\n",
        "\n",
        "A `tuple` consists of a number of values separated by commas. Even though tuples may seem similar to lists, they are often used in different situations and for different purposes. \n",
        "\n",
        "### Syntax:"
      ]
    },
    {
      "cell_type": "code",
      "metadata": {
        "id": "frP64dzWxt3v",
        "colab_type": "code",
        "colab": {}
      },
      "source": [
        "my_tuple = 123, 456, 789, 0, 'Hello!'\n",
        "print(my_tuple)\n",
        "print(my_tuple[2])\n",
        "print(my_tuple[-1])"
      ],
      "execution_count": 0,
      "outputs": []
    },
    {
      "cell_type": "markdown",
      "metadata": {
        "id": "ko3kdTljxt3y",
        "colab_type": "text"
      },
      "source": [
        "![](https://drive.google.com/uc?export=view&id=1JJxhIh6nMIfzxPzcamUzxkg-dnor_EOf)\n",
        "\n",
        "## Slicing\n",
        "\n",
        "`Slicing` is a really neat feature from Python that allows you to get a range of elements from a list/tuple.\n",
        "\n",
        "`tuple[start:end] `\n",
        "\n",
        "`tuple[start:] `\n",
        "\n",
        "`tuple[:end] `\n",
        "\n",
        "There's is also the `step` value, with can be used with `start` and `end`.\n",
        "\n",
        "`tuple[start:end:step]`\n",
        "\n",
        "### Syntax:"
      ]
    },
    {
      "cell_type": "code",
      "metadata": {
        "id": "Ul0whSJsxt3z",
        "colab_type": "code",
        "colab": {}
      },
      "source": [
        "slice_tuple = 0,1,2,3,4,5,6,7,8,9,0\n",
        "print('Display elements from index 0 to 5 (exclusive) -->', end=' ')\n",
        "print(slice_tuple[0:5])\n",
        "\n",
        "print('Display elements from index 2 to 9 (exclusive) -->', end=' ')\n",
        "print(slice_tuple[2:9])\n",
        "\n",
        "print('Display elements from index 5 to the end -->', end=' ')\n",
        "print(slice_tuple[5:])\n",
        "\n",
        "print('Display elements from index 1 to the end -->', end=' ')\n",
        "print(slice_tuple[1:])\n",
        "\n",
        "print('Display elements from start to index 5 (exclusive) -->', end=' ')\n",
        "print(slice_tuple[:5])\n",
        "\n",
        "print('Display elements from start to index 1 (exclusive) -->', end=' ')\n",
        "print(slice_tuple[:1])\n",
        "\n",
        "print('Display elements from index 2 to 6 every 2 items -->', end=' ')\n",
        "print(slice_tuple[2:6:2])\n",
        "\n",
        "print('Display elements from index 0 to the end every 4 items -->', end=' ')\n",
        "print(slice_tuple[0::4])"
      ],
      "execution_count": 0,
      "outputs": []
    },
    {
      "cell_type": "markdown",
      "metadata": {
        "id": "QuicJG-3xt32",
        "colab_type": "text"
      },
      "source": [
        "\n",
        "\n",
        "\n",
        "\n",
        "\n",
        "\n",
        "\n",
        "## Important\n",
        "- Tuples are ***immutable*** and *usually* contain heterogeneous sequence of elements.\n",
        "- Lists are ***mutable*** and *usually* contain homogeneous sequence of elements.\n",
        "\n",
        "`Mutable` objects can change their value, `immutable` objects have a fixed value. \n",
        "\n",
        "If you try and change an item from a tuple you will get an error:"
      ]
    },
    {
      "cell_type": "code",
      "metadata": {
        "id": "AXf87Xg0xt32",
        "colab_type": "code",
        "colab": {}
      },
      "source": [
        "other_tuple = 'Hello', 'word'\n",
        "other_tuple[2] = 'World!'"
      ],
      "execution_count": 0,
      "outputs": []
    },
    {
      "cell_type": "markdown",
      "metadata": {
        "id": "l2nNSNgvxt35",
        "colab_type": "text"
      },
      "source": [
        "## Important\n",
        "\n",
        "Creating an empty tuple or a one item tuple may require extra quirks\n",
        "- An `empty` tuple will require you to place empty parenthesis.\n",
        "- A `one item` tuple will require you to add a comma to the item (otherwise you will be creating a `variable`)\n",
        "\n"
      ]
    },
    {
      "cell_type": "code",
      "metadata": {
        "id": "fc9vta2nxt36",
        "colab_type": "code",
        "colab": {}
      },
      "source": [
        "# Creating an empty tuple:\n",
        "empty_tuple = ()\n",
        "print(empty_tuple)\n",
        "\n",
        "# Creating a one item tuple:\n",
        "one_tuple = 123456, \n",
        "print(one_tuple)"
      ],
      "execution_count": 0,
      "outputs": []
    }
  ]
}