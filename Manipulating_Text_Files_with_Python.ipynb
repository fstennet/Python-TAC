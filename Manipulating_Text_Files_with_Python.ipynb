{
  "nbformat": 4,
  "nbformat_minor": 0,
  "metadata": {
    "colab": {
      "name": "Manipulating Text Files with Python.ipynb",
      "version": "0.3.2",
      "provenance": [],
      "collapsed_sections": [],
      "toc_visible": true,
      "include_colab_link": true
    },
    "language_info": {
      "codemirror_mode": {
        "name": "ipython",
        "version": 3
      },
      "file_extension": ".py",
      "mimetype": "text/x-python",
      "name": "python",
      "nbconvert_exporter": "python",
      "pygments_lexer": "ipython3",
      "version": "3.5.2"
    },
    "kernelspec": {
      "display_name": "Python 3",
      "language": "python",
      "name": "python3"
    }
  },
  "cells": [
    {
      "cell_type": "markdown",
      "metadata": {
        "id": "view-in-github",
        "colab_type": "text"
      },
      "source": [
        "<a href=\"https://colab.research.google.com/github/fstennet/Python-TAC/blob/master/Manipulating_Text_Files_with_Python.ipynb\" target=\"_parent\"><img src=\"https://colab.research.google.com/assets/colab-badge.svg\" alt=\"Open In Colab\"/></a>"
      ]
    },
    {
      "metadata": {
        "id": "2ksl35zADeQn",
        "colab_type": "text"
      },
      "cell_type": "markdown",
      "source": [
        "Reading, writing, loading and searching to a file has never been easier with Python. The **open()** function opens for us text files for manipulation, the function itself returns a [Python file object](https://docs.python.org/3/glossary.html#term-file-object)."
      ]
    },
    {
      "metadata": {
        "id": "jtwx4IbNDeQo",
        "colab_type": "text"
      },
      "cell_type": "markdown",
      "source": [
        "Python (and any other programming language) mimics how we as human beings read text files. Lets compare:\n",
        "    \n",
        "## How humans read:\n",
        "\n",
        "1. Open the text/book/page\n",
        "2. Find the first line of the page\n",
        "3. Focus sight at the leftmost word/character and start reading from left to right\n",
        "\n",
        "## How Python \"reads\":"
      ]
    },
    {
      "metadata": {
        "id": "SmOhVse_DeQp",
        "colab_type": "code",
        "colab": {}
      },
      "cell_type": "code",
      "source": [
        "text = open('mydocument', 'r') # Here we open the file and text contains a file object (like a pointer)\n",
        "for line in text:              # This loop will go line by line inside the text file\n",
        "    print(line)                #The variable \"line\" will contain all characters inside the line"
      ],
      "execution_count": 0,
      "outputs": []
    },
    {
      "metadata": {
        "id": "DiObvI1gEimt",
        "colab_type": "text"
      },
      "cell_type": "markdown",
      "source": [
        "The first argument from the `open()` function is a string containing the `filename`. The second argument is another string containing a few characters describing the way in which the file will be used. mode can be '`r`' when the file will only be `read`, '`w`' for only `writing` (an existing file with the same name will be erased), and '`a`' opens the file for appending; any data written to the file is automatically added to the end. '`r+`' opens the file for both reading and writing. The mode argument is optional; '`r`' will be assumed if it’s omitted."
      ]
    },
    {
      "metadata": {
        "id": "khISB2V1DeQs",
        "colab_type": "text"
      },
      "cell_type": "markdown",
      "source": [
        "So, what are our posibilities?\n",
        "\n",
        "## Examples:"
      ]
    },
    {
      "metadata": {
        "id": "Z-YcaHKXDeQt",
        "colab_type": "code",
        "colab": {}
      },
      "cell_type": "code",
      "source": [
        "text = open('mydocument', 'r')\n",
        "for a in text:\n",
        "    if 'Josue' in a:\n",
        "        print('Josue was referenced inside the file')\n",
        "    else:\n",
        "        print('No references to Josue in this line')"
      ],
      "execution_count": 0,
      "outputs": []
    },
    {
      "metadata": {
        "id": "PaWhk9V2DeQv",
        "colab_type": "code",
        "colab": {}
      },
      "cell_type": "code",
      "source": [
        "text = open('mydocument', 'r')\n",
        "for a in text:\n",
        "    if 'Frank' in a:\n",
        "        print('Frank was referenced inside the file')\n",
        "    else:\n",
        "        print('No references to Frank in this line')"
      ],
      "execution_count": 0,
      "outputs": []
    },
    {
      "metadata": {
        "id": "FravYOKYDeQy",
        "colab_type": "code",
        "colab": {}
      },
      "cell_type": "code",
      "source": [
        "counter = 0\n",
        "text = open('mydocument', 'r')\n",
        "for a in text:\n",
        "    if 'Josue' in a:\n",
        "        counter += 1\n",
        "print(counter)"
      ],
      "execution_count": 0,
      "outputs": []
    },
    {
      "metadata": {
        "id": "6KEQePYKDeQ0",
        "colab_type": "text"
      },
      "cell_type": "markdown",
      "source": [
        "While using a variable does not mean we are loading the whole file to RAM, there's a more accepted way of manipulating a file.\n",
        "\n",
        "# With\n",
        "\n",
        "The keyword **with** (in the context of manipulating files) works very similar to the examples above, but has one main advantage:\n",
        "\n",
        "- **With** will always make sure to close the file once the inner code block finishes.\n",
        "\n",
        "## Syntax:"
      ]
    },
    {
      "metadata": {
        "id": "_FJS9DtfDeQ1",
        "colab_type": "code",
        "colab": {}
      },
      "cell_type": "code",
      "source": [
        "with open('mydocument', 'r') as text:                 # Here we open the file and put the file object inside a target called text\n",
        "    for line in text:\n",
        "        if 'Josue' in line:\n",
        "            print('Josue was mentioned in this text')\n",
        "\n",
        "# Once the with block ends, the file is closed"
      ],
      "execution_count": 0,
      "outputs": []
    },
    {
      "metadata": {
        "id": "vxOGpvCRFQCx",
        "colab_type": "text"
      },
      "cell_type": "markdown",
      "source": [
        "# Methods\n",
        "\n",
        "There are a couple of methods used with file objects.\n",
        "\n",
        "## file.read()\n",
        "This methods reads the file and returns the text. This is a method to be careful about, if the file size is larger than the machine's memory.\n",
        "\n",
        "## file.readline()\n",
        "This method reads one single line of the file using `\\n` as delimiter.\n",
        "\n",
        "## file.write(x)\n",
        "This method writes a string `x` to the file.\n"
      ]
    },
    {
      "metadata": {
        "id": "28p2Hu7vHOwV",
        "colab_type": "code",
        "colab": {}
      },
      "cell_type": "code",
      "source": [
        "file = open('my_document', 'w')\n",
        "file.write('Hello World!')"
      ],
      "execution_count": 0,
      "outputs": []
    },
    {
      "metadata": {
        "id": "c3gL-F1vHgNz",
        "colab_type": "text"
      },
      "cell_type": "markdown",
      "source": [
        "## file.close()\n",
        "This method closes the file and frees up systems resources allocated by it."
      ]
    }
  ]
}