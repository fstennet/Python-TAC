{
  "nbformat": 4,
  "nbformat_minor": 0,
  "metadata": {
    "kernelspec": {
      "display_name": "Python 3",
      "language": "python",
      "name": "python3"
    },
    "language_info": {
      "codemirror_mode": {
        "name": "ipython",
        "version": 3
      },
      "file_extension": ".py",
      "mimetype": "text/x-python",
      "name": "python",
      "nbconvert_exporter": "python",
      "pygments_lexer": "ipython3",
      "version": "3.5.2"
    },
    "colab": {
      "name": "Lists.ipynb",
      "version": "0.3.2",
      "provenance": [],
      "collapsed_sections": [],
      "include_colab_link": true
    }
  },
  "cells": [
    {
      "cell_type": "markdown",
      "metadata": {
        "id": "view-in-github",
        "colab_type": "text"
      },
      "source": [
        "<a href=\"https://colab.research.google.com/github/fstennet/Python-TAC/blob/master/Lists.ipynb\" target=\"_parent\"><img src=\"https://colab.research.google.com/assets/colab-badge.svg\" alt=\"Open In Colab\"/></a>"
      ]
    },
    {
      "cell_type": "markdown",
      "metadata": {
        "id": "L_BF9l0j_0qs",
        "colab_type": "text"
      },
      "source": [
        "# Lists\n",
        "\n",
        "**Lists** are ***data structures*** used to group together values, which can be written as a list of comma-separated values (items) between square brackets. Lists might contain items of different types, but usually the items all have the same type.\n",
        "\n",
        "So... What does a list look like in real life? It is simply a list that contains numbered items like so:\n",
        "\n",
        "![shopping%20list.png](https://drive.google.com/uc?export=view&id=1IJ2ODE8BfQBxf-TzHv-j-S4zKwLk1dsh)\n",
        "\n",
        "And how does a list look in Python?\n",
        "\n",
        "### Syntax:"
      ]
    },
    {
      "cell_type": "code",
      "metadata": {
        "id": "i3mTsAsM_0qt",
        "colab_type": "code",
        "colab": {}
      },
      "source": [
        "variable1 = \"Cheese\"\n",
        "shopping_list = ['Milk', 'Eggs', variable1, 'Butter', 'Cream']\n",
        "print(shopping_list)"
      ],
      "execution_count": 0,
      "outputs": []
    },
    {
      "cell_type": "markdown",
      "metadata": {
        "id": "_ejJJ1F6_0qv",
        "colab_type": "text"
      },
      "source": [
        "The second line in the code above *creates a* **list** called \"shopping_list\" with the **elemets/items**: Milk, Eggs, variable1, Butter and Cream.\n",
        "\n",
        "A list looks like this:\n",
        "\n",
        "![List.png](https://drive.google.com/uc?export=view&id=18GrD-1yH6AF6-NM1jGJJ5QYsyg9e3vgv)\n",
        "\n",
        "You can extract single elements/items from a list by using their **index**. Every **element/item** has an unique **index** depending on their position inside the list.\n",
        "\n",
        "### Example:"
      ]
    },
    {
      "cell_type": "code",
      "metadata": {
        "id": "Z6rst7TK_0qw",
        "colab_type": "code",
        "colab": {}
      },
      "source": [
        "print(\"Here, we will print the element/item inside index 0: \", shopping_list[0])"
      ],
      "execution_count": 0,
      "outputs": []
    },
    {
      "cell_type": "markdown",
      "metadata": {
        "id": "AyjapcmX_0qz",
        "colab_type": "text"
      },
      "source": [
        "### More on indices:\n",
        "\n",
        "You can also use negative indices to get the elements of a list from right to left."
      ]
    },
    {
      "cell_type": "code",
      "metadata": {
        "id": "zWt9omXf_0qz",
        "colab_type": "code",
        "colab": {}
      },
      "source": [
        "print(shopping_list)\n",
        "print(\"Last element: \", shopping_list[-1])\n",
        "print(\"One elements before the last element: \", shopping_list[-2])\n",
        "print(\"Two elements before the last element: \", shopping_list[-3])\n",
        "print(\"Three elements before the last element: \", shopping_list[-4])"
      ],
      "execution_count": 0,
      "outputs": []
    },
    {
      "cell_type": "markdown",
      "metadata": {
        "id": "ME8hytVh_0q2",
        "colab_type": "text"
      },
      "source": [
        "### Important\n",
        "- Tuples are ***immutable*** and *usually* contain heterogeneous sequence of elements.\n",
        "- Lists are ***mutable*** and *usually* contain homogeneous sequence of elements.\n",
        "\n",
        "`Mutable` objects can change their value, `immutable` objects have a fixed value.\n",
        "\n",
        "------------------------------------------------------------------------------------------------------------\n",
        "\n",
        "\n",
        "## Slicing\n",
        "\n",
        "`Slicing` is a really neat feature from Python that allows you to get a range of elements from a list/tuple.\n",
        "\n",
        "`list[start:end] `\n",
        "\n",
        "`list[start:] `\n",
        "\n",
        "`list[:end] `\n",
        "\n",
        "There's is also the `step` value, with can be used with `start` and `end`.\n",
        "\n",
        "`list[start:end:step]`\n",
        "\n",
        "### Syntax:"
      ]
    },
    {
      "cell_type": "code",
      "metadata": {
        "id": "l8kXIFsU_0q2",
        "colab_type": "code",
        "colab": {}
      },
      "source": [
        "slice_list = 0,1,2,3,4,5,6,7,8,9,0\n",
        "print('Display elements from index 0 to 5 (exclusive) -->', end=' ')\n",
        "print(slice_list[0:5])\n",
        "\n",
        "print('Display elements from index 2 to 9 (exclusive) -->', end=' ')\n",
        "print(slice_list[2:9])\n",
        "\n",
        "print('Display elements from index 5 to the end -->', end=' ')\n",
        "print(slice_list[5:])\n",
        "\n",
        "print('Display elements from index 1 to the end -->', end=' ')\n",
        "print(slice_list[1:])\n",
        "\n",
        "print('Display elements from start to index 5 (exclusive) -->', end=' ')\n",
        "print(slice_list[:5])\n",
        "\n",
        "print('Display elements from start to index 1 (exclusive) -->', end=' ')\n",
        "print(slice_list[:1])\n",
        "\n",
        "print('Display elements from index 2 to 6 every 2 items -->', end=' ')\n",
        "print(slice_list[2:6:2])\n",
        "\n",
        "print('Display elements from index 0 to the end every 4 items -->', end=' ')\n",
        "print(slice_list[0::4])"
      ],
      "execution_count": 0,
      "outputs": []
    },
    {
      "cell_type": "markdown",
      "metadata": {
        "id": "nob2kCVt_0q5",
        "colab_type": "text"
      },
      "source": [
        "\n",
        "\n",
        "-----------------------------------------------------------------------------------------------------------------------------\n",
        "\n",
        "## Methods:\n",
        "\n",
        "You can additionally do all sorts of manipulation like adding and deleting items from a list. See the [embedded methods](https://docs.python.org/3.7/tutorial/datastructures.html#more-on-lists) created to manipulate lists.\n",
        "\n",
        "### list.append():\n",
        "\n",
        "`Add` an item to the end of the list."
      ]
    },
    {
      "cell_type": "code",
      "metadata": {
        "id": "fOnKkMsL_0q6",
        "colab_type": "code",
        "colab": {}
      },
      "source": [
        "my_list = []\n",
        "while True:\n",
        "    item = input(\"Enter element/item to add to the list: \")\n",
        "    my_list.append(item)\n",
        "    print(my_list)"
      ],
      "execution_count": 0,
      "outputs": []
    },
    {
      "cell_type": "markdown",
      "metadata": {
        "id": "sHgMYCNQ_0q8",
        "colab_type": "text"
      },
      "source": [
        "\n",
        "\n",
        "### list.insert(i, e):\n",
        "\n",
        "This method `inserts` an item at a given index, the first argument (i) is the `index` where we want to place the element, the second argument (e) is the element/item."
      ]
    },
    {
      "cell_type": "code",
      "metadata": {
        "id": "w7MHHx2y_0q9",
        "colab_type": "code",
        "colab": {}
      },
      "source": [
        "numbers_list = ['zero','one','two','three','four','five']\n",
        "print('Before inserting: ', numbers_list)\n",
        "numbers_list.insert(0, 'negative one')\n",
        "print(numbers_list)"
      ],
      "execution_count": 0,
      "outputs": []
    },
    {
      "cell_type": "markdown",
      "metadata": {
        "id": "ExV9qlAM_0rA",
        "colab_type": "text"
      },
      "source": [
        "\n",
        "\n",
        "### list.index(n):\n",
        "\n",
        "This method returns the `index` number of the fist element whose value matches n."
      ]
    },
    {
      "cell_type": "code",
      "metadata": {
        "id": "M_JCMTnN_0rA",
        "colab_type": "code",
        "colab": {}
      },
      "source": [
        "cities_list = ['Berlin', 'Hamburg', 'Munich', 'Frankfurt']\n",
        "city_number = cities_list.index('Munich')\n",
        "print('Index: ', city_number)"
      ],
      "execution_count": 0,
      "outputs": []
    },
    {
      "cell_type": "markdown",
      "metadata": {
        "id": "Dw_n9u6V_0rD",
        "colab_type": "text"
      },
      "source": [
        "\n",
        "\n",
        "### list.remove(e):\n",
        "\n",
        "This method `removes` the first item from the list whose value is equal to `e`."
      ]
    },
    {
      "cell_type": "code",
      "metadata": {
        "id": "22qxD_KT_0rE",
        "colab_type": "code",
        "colab": {}
      },
      "source": [
        "cr_cities = ['San Jose', 'Heredia', 'Alajuela', 'Cartago', 'Panama City']\n",
        "cr_cities.remove('Panama City')\n",
        "print(cr_cities)"
      ],
      "execution_count": 0,
      "outputs": []
    },
    {
      "cell_type": "markdown",
      "metadata": {
        "id": "sZktnDM-_0rH",
        "colab_type": "text"
      },
      "source": [
        "-----------------------------------------------------------------------------------------------------------------------------\n",
        "\n",
        "## Functions:\n",
        "\n",
        "There are some useful `built-in functions` you can combine with lists.\n",
        "\n",
        "### len(list)\n",
        "\n",
        "This function returns the `length` (number of items) of the list."
      ]
    },
    {
      "cell_type": "code",
      "metadata": {
        "id": "ehX5WMyx_0rI",
        "colab_type": "code",
        "colab": {}
      },
      "source": [
        "bl_cities = ['Sofia', 'Varna', 'Plovdiv', 'Burgas', 'Ruse', 'Pleven', 'Vidin', 'Stara Zagora']\n",
        "print('The list contains', len(bl_cities), 'cities')"
      ],
      "execution_count": 0,
      "outputs": []
    },
    {
      "cell_type": "markdown",
      "metadata": {
        "id": "sCAWl9VP_0rK",
        "colab_type": "text"
      },
      "source": [
        "-----------------------------------------------------------------------------------------------------------------------------\n",
        "\n",
        "### sorted(list)\n",
        "\n",
        "Returns a new `sorted` list:\n"
      ]
    },
    {
      "cell_type": "code",
      "metadata": {
        "id": "6kIjiQSv_0rL",
        "colab_type": "code",
        "colab": {}
      },
      "source": [
        "letter_list = ['z', 'q', 'b', 'e', 'a', 'f', 'y']\n",
        "sorted_list = sorted(letter_list)\n",
        "print(sorted_list)"
      ],
      "execution_count": 0,
      "outputs": []
    }
  ]
}