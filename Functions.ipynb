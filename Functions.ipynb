{
  "nbformat": 4,
  "nbformat_minor": 0,
  "metadata": {
    "colab": {
      "name": "Functions.ipynb",
      "version": "0.3.2",
      "provenance": [],
      "collapsed_sections": [],
      "include_colab_link": true
    },
    "kernelspec": {
      "display_name": "Python 3",
      "language": "python",
      "name": "python3"
    }
  },
  "cells": [
    {
      "cell_type": "markdown",
      "metadata": {
        "id": "view-in-github",
        "colab_type": "text"
      },
      "source": [
        "<a href=\"https://colab.research.google.com/github/fstennet/Python-TAC/blob/master/Functions.ipynb\" target=\"_parent\"><img src=\"https://colab.research.google.com/assets/colab-badge.svg\" alt=\"Open In Colab\"/></a>"
      ]
    },
    {
      "metadata": {
        "id": "EyaHopvL0SQi",
        "colab_type": "text"
      },
      "cell_type": "markdown",
      "source": [
        "# Functions\n",
        "\n",
        "By now, you've probably used a few Python functions like print(), input(), int(), str(), os.system(), etc... But where do functions come from?\n",
        "\n",
        "- **Built-in functions**: These are available with each and every Python installation. Eg. print(), dict(), etc...\n",
        "- **Python's preinstalled modules**: These are libraries that are installed with Python such as os, tkinter, re, json, etc...\n",
        "- **Python open source libraries**: There are available on the internet and can be downloaded to your computer. Eg. openCV, numpy, etc...\n",
        "- **Directly from your code**: You can write your very own functions inside your script and use them whenever you want.\n",
        "\n",
        "Defining **functions** in Python is rather easy:\n",
        "1. To `define` a function, you have to place the \"def\" (for \"define\") keyword .\n",
        "2. Right next to the \"def\" goes the `name` of the function.\n",
        "3. After the function name, place parentheses and an ending `colon` (:). \n",
        "4. All instructions from the function should be `nested` (indented)\n",
        "\n",
        "## Syntax:"
      ]
    },
    {
      "metadata": {
        "id": "bZv_eLwF0SQk",
        "colab_type": "code",
        "colab": {}
      },
      "cell_type": "code",
      "source": [
        "def my_function():\n",
        "    print('First line inside the function')\n",
        "    print('Second line inside the function')\n",
        "    \n",
        "print('First line inside the main code')\n",
        "my_function()\n",
        "print('Second line inside the main code')"
      ],
      "execution_count": 0,
      "outputs": []
    },
    {
      "metadata": {
        "id": "xyNAVhS-0SQn",
        "colab_type": "text"
      },
      "cell_type": "markdown",
      "source": [
        "#### This is the flow that the script above follows:\n",
        "\n",
        "![](https://drive.google.com/uc?export=view&id=1fM4sDBXic998czh8zTFRbM1R9E5mphnb)\n",
        "\n",
        "#### Even though the function was defined before the main code, Python only executes the function when it is invoked.\n",
        "\n",
        "![](https://drive.google.com/uc?export=view&id=1tdWTUpO51WbL8tl6MkrnYAgEAVGZ7kln)\n",
        "\n",
        "### Another example:\n"
      ]
    },
    {
      "metadata": {
        "id": "EKPzYRaz0SQo",
        "colab_type": "code",
        "colab": {}
      },
      "cell_type": "code",
      "source": [
        "def joke():\n",
        "    print(\"Man1: Knock! Knock!\")\n",
        "    print(\"Man2: Who's there?\")\n",
        "    print(\"Man1: Scold\")\n",
        "    print(\"Man2: Scold who?\")\n",
        "    print(\"Man1: Scold outside - let me in!\")\n",
        "    \n",
        "print(\"Here's a joke \")\n",
        "joke()\n",
        "print(\"Funny huh?\")"
      ],
      "execution_count": 0,
      "outputs": []
    },
    {
      "metadata": {
        "id": "USFQMFGs0SQr",
        "colab_type": "text"
      },
      "cell_type": "markdown",
      "source": [
        "*What are we doing there?* We are defining the **function** called ***\"joke()\"*** which prints out a knock knock joke. "
      ]
    },
    {
      "metadata": {
        "id": "3nHZ9ugG0SQs",
        "colab_type": "text"
      },
      "cell_type": "markdown",
      "source": [
        "-------------------------------------------------------------------------------------------------------------------------------\n",
        "\n",
        "## Function Parameters\n",
        "\n",
        "Functions can also accept `variables` that are provided by the code that invokes it, the data from the `variables` can modify the function's behavior. `Parameters` are variables that are passed into the function as `arguments` when the function is invoked:\n",
        "\n",
        "![](https://drive.google.com/uc?export=view&id=1mude8O71pf7Han7lzqId_wkKEBy3J2wY)\n",
        "\n",
        "\n",
        "- `Parameter` **-->** `inside` the function\n",
        "- `Argument`  **-->** `outside` the function\n",
        "\n"
      ]
    },
    {
      "metadata": {
        "id": "lRlJKky80SQt",
        "colab_type": "code",
        "colab": {}
      },
      "cell_type": "code",
      "source": [
        "def function2(foo):\n",
        "    print('We are in function #2 - Received parameter', foo)\n",
        "\n",
        "def function1(var):\n",
        "    print('We are in function #1 - Received parameter', var)\n",
        "    function2(var)\n",
        "    \n",
        "\n",
        "# This is the main code\n",
        "print('Main code')\n",
        "name = input('What\\'s your name? ')\n",
        "function1(name)\n"
      ],
      "execution_count": 0,
      "outputs": []
    },
    {
      "metadata": {
        "id": "1U7w59Fw0SQw",
        "colab_type": "text"
      },
      "cell_type": "markdown",
      "source": [
        "![](https://drive.google.com/uc?export=view&id=1ckUW9XA095kLUd2jkvgf331BgMMo7QvA)\n",
        "\n",
        "Functions can also accept more than one `arguments` and there are two ways to deal with that.\n",
        "\n",
        "-----------------------------------------------------------------------------------------------------------------\n",
        "\n",
        "## Positional Parameters\n",
        "\n",
        "The following script exemplifies the use of positional parameters inside a function:"
      ]
    },
    {
      "metadata": {
        "id": "DyM9sSAn0SQx",
        "colab_type": "code",
        "colab": {}
      },
      "cell_type": "code",
      "source": [
        "def fun1(first , last):\n",
        "    print('Printing parameters: ', 'Parameter #1 - ' + first, 'Parameter #2 - ' +  last, sep='\\n')\n",
        "\n",
        "def fun2():\n",
        "    first_name = input('Enter your first name: ')\n",
        "    last_name = input('Enter your last name: ')\n",
        "    fun1(first_name, last_name)\n",
        "    \n",
        "fun2()"
      ],
      "execution_count": 0,
      "outputs": []
    },
    {
      "metadata": {
        "id": "n3uulaRj0SQ0",
        "colab_type": "text"
      },
      "cell_type": "markdown",
      "source": [
        "`fun1()` accepts two parameters `fist` and `last`. Python knows that the argument `first_name` corresponds to the parameter `first` and last_name to `last` because of their position inside the function parentheses.\n",
        "\n",
        "![](https://drive.google.com/uc?export=view&id=1e791G9THgyhDciTS3S0sa-uCqTdlNtm2)\n",
        "\n",
        "\n",
        "-------------------------------------------------------------------------------------------------------------------------------\n",
        "\n",
        "## Keyword (Named) Parameters\n",
        "\n",
        "This other way of passing `arguments` is dictated by the names of the `parameters` and **not by their position**. See the following example."
      ]
    },
    {
      "metadata": {
        "id": "bY62LMK00SQ1",
        "colab_type": "code",
        "colab": {}
      },
      "cell_type": "code",
      "source": [
        "def fun3(first , last):\n",
        "    print('Printing parameters: ', 'Parameter #1 - ' + first, 'Parameter #2 - ' +  last, sep='\\n')\n",
        "\n",
        "def fun4():\n",
        "    first_name = input('Enter your first name: ')\n",
        "    last_name = input('Enter your last name: ')\n",
        "    fun3(last=last_name, first=first_name)\n",
        "    \n",
        "fun4()"
      ],
      "execution_count": 0,
      "outputs": []
    },
    {
      "metadata": {
        "id": "KfTtzcDp0SQ4",
        "colab_type": "text"
      },
      "cell_type": "markdown",
      "source": [
        "![](https://drive.google.com/uc?export=view&id=1PobTLRAE1huQG4LSkWOhk3CQrfrENalC)\n",
        "\n",
        "With this alternative, you can specify the value of the `argument` you want to pass. No need to arrange the `arguments/parameters` in any way."
      ]
    }
  ]
}