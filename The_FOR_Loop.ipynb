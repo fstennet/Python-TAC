{
  "nbformat": 4,
  "nbformat_minor": 0,
  "metadata": {
    "kernelspec": {
      "display_name": "Python 3",
      "language": "python",
      "name": "python3"
    },
    "language_info": {
      "codemirror_mode": {
        "name": "ipython",
        "version": 3
      },
      "file_extension": ".py",
      "mimetype": "text/x-python",
      "name": "python",
      "nbconvert_exporter": "python",
      "pygments_lexer": "ipython3",
      "version": "3.5.2"
    },
    "colab": {
      "name": "The FOR Loop.ipynb",
      "version": "0.3.2",
      "provenance": [],
      "include_colab_link": true
    }
  },
  "cells": [
    {
      "cell_type": "markdown",
      "metadata": {
        "id": "view-in-github",
        "colab_type": "text"
      },
      "source": [
        "<a href=\"https://colab.research.google.com/github/fstennet/Python-TAC/blob/master/The_FOR_Loop.ipynb\" target=\"_parent\"><img src=\"https://colab.research.google.com/assets/colab-badge.svg\" alt=\"Open In Colab\"/></a>"
      ]
    },
    {
      "cell_type": "markdown",
      "metadata": {
        "id": "LajcqcjAn87A",
        "colab_type": "text"
      },
      "source": [
        "# FOR\n",
        "\n",
        "There is another kind of loop that doesn't require you to setup a counter and increase it every time. The **for** loop is used to iterate (repeat) over the elements of a sequence.\n",
        "\n",
        "This `loop` will behave a bit differently depending on what type of data it itirates through.\n",
        "\n",
        "----------------------------------------------------------------------------------------------------------------\n",
        "\n",
        "## Lists\n",
        "\n",
        "Take a list as an example, if you use the **for** loop in conjunction with a list the repeating code will run the amount of times ***equal*** to the elements inside the list.\n",
        "\n",
        "For will iterate over the `elements` of the list.\n",
        "\n",
        "### Syntax:"
      ]
    },
    {
      "cell_type": "code",
      "metadata": {
        "id": "P7wj15fYn87B",
        "colab_type": "code",
        "colab": {}
      },
      "source": [
        "my_list = ['Hello', 'World', 'spider', 'jury', 'frame', 'direct', 'foster']\n",
        "for element in my_list:\n",
        "    print('Hello', element)  #This is the code we will repeat 7 times"
      ],
      "execution_count": 0,
      "outputs": []
    },
    {
      "cell_type": "markdown",
      "metadata": {
        "id": "4f105F_4n87E",
        "colab_type": "text"
      },
      "source": [
        "You could translate the line above this way:\n",
        "\n",
        "> *run the following code* **for** *each* **element in list:**    \n",
        "\n",
        "Or this could be a graphic representation:\n",
        "\n",
        "![for%20loop.png](https://drive.google.com/uc?export=view&id=1aOWRQtjdFlcaj4eyx86mhqb-ioDOs4jj)\n",
        "\n",
        "Some interesting facts about the **for** loop:\n",
        "- 'for' is the keyword that starts the loop but there are no conditions.\n",
        "- The variable after 'for' is called the **control variable**. It counts the loop turns automatically and can be named as you want.\n",
        "- The **break** statement can be used to exit out of loops like in ***while***\n",
        "\n",
        "\n",
        "----------------------------------------------------------------------------------------------------------------\n",
        "\n",
        "## Variables:\n",
        "\n",
        "This loop will itirate on the `characters/numbers` from the variable.\n",
        "\n",
        "### Syntax:"
      ]
    },
    {
      "cell_type": "code",
      "metadata": {
        "id": "gfI5Xas7n87F",
        "colab_type": "code",
        "colab": {}
      },
      "source": [
        "v = 'This is text I just made out and should not make much sense at all. Bears, Beets, Battlestar Galactica'\n",
        "for i in v:\n",
        "    print(i)"
      ],
      "execution_count": 0,
      "outputs": []
    },
    {
      "cell_type": "markdown",
      "metadata": {
        "id": "9kfDtTxRn87I",
        "colab_type": "text"
      },
      "source": [
        "----------------------------------------------------------------------------------------------------------------\n",
        "\n",
        "## Dictionaries:\n",
        "\n",
        "For will itirate over the `keys` of a dictionary.\n",
        "\n",
        "### Syntax:"
      ]
    },
    {
      "cell_type": "code",
      "metadata": {
        "id": "JM6kKeyZn87J",
        "colab_type": "code",
        "colab": {}
      },
      "source": [
        "ch_dict = {\n",
        "        '1': '一',\n",
        "        '2': '二',\n",
        "        '3': '三',\n",
        "        '4': '四'}\n",
        "\n",
        "for n in ch_dict:\n",
        "    print(n)"
      ],
      "execution_count": 0,
      "outputs": []
    },
    {
      "cell_type": "markdown",
      "metadata": {
        "id": "aZAvasx0n87L",
        "colab_type": "text"
      },
      "source": [
        "----------------------------------------------------------------------------------------------------------------\n",
        "\n",
        "#### Other common uses:"
      ]
    },
    {
      "cell_type": "code",
      "metadata": {
        "id": "YEWUcb28n87M",
        "colab_type": "code",
        "colab": {}
      },
      "source": [
        "for number in range(10):\n",
        "    print(number)"
      ],
      "execution_count": 0,
      "outputs": []
    },
    {
      "cell_type": "code",
      "metadata": {
        "id": "mPAh1rwmn87O",
        "colab_type": "code",
        "colab": {}
      },
      "source": [
        "for a in range(10,200):\n",
        "    print(a)"
      ],
      "execution_count": 0,
      "outputs": []
    },
    {
      "cell_type": "code",
      "metadata": {
        "id": "mbkeSsdzn87S",
        "colab_type": "code",
        "colab": {}
      },
      "source": [
        "for a in range(len(my_list)):\n",
        "    print(a, my_list[a])"
      ],
      "execution_count": 0,
      "outputs": []
    }
  ]
}