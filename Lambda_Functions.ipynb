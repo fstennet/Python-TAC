{
  "nbformat": 4,
  "nbformat_minor": 0,
  "metadata": {
    "colab": {
      "name": "Lambda Functions.ipynb",
      "version": "0.3.2",
      "provenance": [],
      "collapsed_sections": [],
      "include_colab_link": true
    },
    "kernelspec": {
      "display_name": "Python 3",
      "language": "python",
      "name": "python3"
    }
  },
  "cells": [
    {
      "cell_type": "markdown",
      "metadata": {
        "id": "view-in-github",
        "colab_type": "text"
      },
      "source": [
        "<a href=\"https://colab.research.google.com/github/fstennet/Python-TAC/blob/master/Lambda_Functions.ipynb\" target=\"_parent\"><img src=\"https://colab.research.google.com/assets/colab-badge.svg\" alt=\"Open In Colab\"/></a>"
      ]
    },
    {
      "metadata": {
        "id": "YnwRUKJ1vysy",
        "colab_type": "text"
      },
      "cell_type": "markdown",
      "source": [
        "# Lambda Functions\n",
        "\n",
        "So far you have created `functions` like this:"
      ]
    },
    {
      "metadata": {
        "id": "fIruBnUkvysz",
        "colab_type": "code",
        "colab": {
          "base_uri": "https://localhost:8080/",
          "height": 68
        },
        "outputId": "df93219b-64a4-4202-89de-054aee8c6de3"
      },
      "cell_type": "code",
      "source": [
        "def email_generator(f, l):\n",
        "    return f + '.' + l + '@aol.com'\n",
        "\n",
        "first = input('Enter your first name: ')\n",
        "last = input('Enter your last name: ')\n",
        "email = email_generator(first, last)\n",
        "print('This is your email address: ', email)"
      ],
      "execution_count": 1,
      "outputs": [
        {
          "output_type": "stream",
          "text": [
            "Enter your first name: Andrey\n",
            "Enter your last name: Bah\n",
            "This is your email address:  Andrey.Bah@aol.com\n"
          ],
          "name": "stdout"
        }
      ]
    },
    {
      "metadata": {
        "id": "bmFHeDnbvys2",
        "colab_type": "text"
      },
      "cell_type": "markdown",
      "source": [
        "But, the code above could get `squished` into less lines with a `lambda function`:"
      ]
    },
    {
      "metadata": {
        "id": "xQ8tnEl_vys3",
        "colab_type": "code",
        "colab": {
          "base_uri": "https://localhost:8080/",
          "height": 68
        },
        "outputId": "f974b7fb-f427-4ee0-f7ac-4183f660c1e6"
      },
      "cell_type": "code",
      "source": [
        "first = input('Enter your first name: ')\n",
        "last = input('Enter your last name: ')\n",
        "email = lambda f, l: f + '.' + l + '@aol.com' \n",
        "print('This is your email address: ', email(first, last))"
      ],
      "execution_count": 2,
      "outputs": [
        {
          "output_type": "stream",
          "text": [
            "Enter your first name: Aeal\n",
            "Enter your last name: Oolh\n",
            "This is your email address:  Aeal.Oolh@aol.com\n"
          ],
          "name": "stdout"
        }
      ]
    },
    {
      "metadata": {
        "id": "vPRZY8YLvys7",
        "colab_type": "text"
      },
      "cell_type": "markdown",
      "source": [
        "Lambda is an expression in Python that allows you to create `anonymous` (unamed) functions. They are restricted to a `single expression`."
      ]
    }
  ]
}