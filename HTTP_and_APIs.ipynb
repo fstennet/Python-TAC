{
  "nbformat": 4,
  "nbformat_minor": 0,
  "metadata": {
    "colab": {
      "name": "HTTP and APIs.ipynb",
      "version": "0.3.2",
      "provenance": [],
      "collapsed_sections": [],
      "include_colab_link": true
    },
    "kernelspec": {
      "display_name": "Python 3",
      "language": "python",
      "name": "python3"
    }
  },
  "cells": [
    {
      "cell_type": "markdown",
      "metadata": {
        "id": "view-in-github",
        "colab_type": "text"
      },
      "source": [
        "<a href=\"https://colab.research.google.com/github/fstennet/Python-TAC/blob/master/HTTP_and_APIs.ipynb\" target=\"_parent\"><img src=\"https://colab.research.google.com/assets/colab-badge.svg\" alt=\"Open In Colab\"/></a>"
      ]
    },
    {
      "metadata": {
        "id": "3Z-Q5jiB7VLa",
        "colab_type": "text"
      },
      "cell_type": "markdown",
      "source": [
        "The **Hypertext Transfer Protocol** (HTTP) is an application-level protocol for distributed, collaborative, hypermedia information systems. It is a generic, stateless, protocol which can be used for many tasks beyond its use for hypertext.\n",
        "\n",
        "HTTP is not only used for websites (HTML) but is the transport protocol used for communicating with APIs.\n",
        "\n",
        "### Quick HTTP overview:\n",
        "\n",
        "- It uses TCP and therefore a **3-way handshake** is performed before data is sent.\n",
        "- There are various HTTP request methods (e.g. \"**GET**\" and \"**POST**\").\n",
        "- There are various HTTP responses (e.g. **200**, **404**, etc...)\n",
        "- Data transmitted with HTTP goes across the network in **plan text**.\n",
        "- HTTPS encrypts the payload.\n",
        "\n",
        "The following capture displays an HTTP **GET** Request from the client for \"/images/layout/logo.png\", the server in response to this message sends \"logo.png\" from the \"/images/layout\" folder. Once the data is successfully sent, the server sends a 200 message to the client:\n",
        "\n",
        "\n",
        "\n",
        "![](https://drive.google.com/uc?export=view&id=1wl6hc1e5pyrDsYUQR0CiUsYJQ7aajCB_)\n",
        "\n",
        "\n",
        "\n",
        "\n",
        "## HTTP Request Methods: GET and POST\n",
        "\n",
        "- GET - Requests data from a specified resource\n",
        "- POST - Submits data to be processed to a specified resource\n",
        "\n",
        "\n",
        "As Python developers, do we have to deal with network layer programming to send HTTP(s) messages (L4, L3, L2, L1)?\n",
        "\n",
        "\n",
        "# Behold, the power of Requests!!!!:\n",
        "\n",
        "There's an [awesome library](http://docs.python-requests.org/en/master/) that helps us sending those messages quick and easy:\n",
        "\n",
        "\n",
        "## Example:"
      ]
    },
    {
      "metadata": {
        "id": "eJBSd0Sw7VLd",
        "colab_type": "code",
        "colab": {}
      },
      "cell_type": "code",
      "source": [
        "import requests\n",
        "\n",
        "response = requests.get('http://www.google.com')\n",
        "print(response)\n"
      ],
      "execution_count": 0,
      "outputs": []
    },
    {
      "metadata": {
        "id": "toJ7Zsge7VLi",
        "colab_type": "text"
      },
      "cell_type": "markdown",
      "source": [
        "The response code '200' means the file was delivered successfully but where is it?\n",
        "\n",
        "## **IMPORTANT!!!!!**\n",
        "\n",
        "*Don't ever, for any reason, ever, no matter what, no matter where, or who, or who you are with, or where you are going, or where you've been, ever, for any reason whatsoever try to parse data from an HTML page. Reasons [here,](https://stackoverflow.com/questions/1732348/regex-match-open-tags-except-xhtml-self-contained-tags/1732454#1732454) [here](https://stackoverflow.com/questions/590747/using-regular-expressions-to-parse-html-why-not) and [here](https://stackoverflow.com/questions/133601/can-regular-expressions-be-used-to-match-nested-patterns).*"
      ]
    },
    {
      "metadata": {
        "id": "ZS7r1_dJ7VLj",
        "colab_type": "code",
        "colab": {}
      },
      "cell_type": "code",
      "source": [
        "import requests\n",
        "\n",
        "# Don't ever do this:\n",
        "\n",
        "response = requests.get('http://www.google.com', stream=True)\n",
        "print(response.content)"
      ],
      "execution_count": 0,
      "outputs": []
    },
    {
      "metadata": {
        "id": "iwNkaHUj7VLm",
        "colab_type": "text"
      },
      "cell_type": "markdown",
      "source": [
        "The function **post()** will submit data to a server, the data has to be structured in a way that the receiving host can understand.\n",
        "\n",
        "#### Future topic:\n",
        "\n",
        "> The variable we used to store what the get() function returns (response) isn't a variable. It is an object.\n",
        "\n",
        "\n",
        "\n",
        "\n",
        "\n",
        "###### But... What is this all for???\n",
        "###### But... What is this all for???\n",
        "###### But... What is this all for???\n",
        "###### But... What is this all for???\n",
        "###### But... What is this all for???\n",
        "###### But... What is this all for???\n",
        "###### But... What is this all for???\n",
        "###### But... What is this all for???\n",
        "\n",
        "\n",
        "\n",
        "\n",
        "\n",
        "\n",
        "\n",
        "\n",
        "# API\n",
        "\n",
        "An Application Programming (or Program or Programmable) Interface is a set of clearly defined methods of communication between various software components. \n",
        "\n",
        "### Analogy:\n",
        "\n",
        "APIs are to software what websites are to human\n",
        "**API** : **software** :: *website* : *human*\n",
        "\n",
        "So an API is a way that a company \"exposes\" some of its data to be consumed **by software**. \n",
        "\n",
        "\n",
        "\n",
        "## Playing around with an API\n",
        "\n",
        "Lets take a very easy to use API and get some of its info, head into https://swapi.co/ and check out their documentation. After some time you will realize that they've setup their API in such a way that you only have to send out a GET to their hostname and requesting an specific URI to poll data.\n",
        "\n",
        "Go an check this page: https://swapi.co/api/people/4. If you thing it through, your website is doing an **HTTP GET REQUEST** to the website and in return we get a response in **JSON** format.\n",
        "\n",
        "What if we wanted to do the same thing in a programmatic way?\n",
        "\n",
        "## Syntax:\n"
      ]
    },
    {
      "metadata": {
        "id": "UHMHwlRp7VLm",
        "colab_type": "code",
        "colab": {}
      },
      "cell_type": "code",
      "source": [
        "import json, requests\n",
        "\n",
        "response = requests.get('https://swapi.co/api/people/4')\n",
        "print(response.json())"
      ],
      "execution_count": 0,
      "outputs": []
    },
    {
      "metadata": {
        "id": "bbqaZVbz7VLp",
        "colab_type": "text"
      },
      "cell_type": "markdown",
      "source": [
        "Cool... What if we wanted to **manipulate the response** and just extract some data from it? Like the name of the character and his gender?\n",
        "\n",
        "As it turns out, the **json()** method from the **requests** library automatically decodes the *JSON object into a dictionary*, so, whatever the response is, you can just play with it."
      ]
    },
    {
      "metadata": {
        "id": "1cPMUiFN7VLq",
        "colab_type": "code",
        "colab": {}
      },
      "cell_type": "code",
      "source": [
        "print(response.json()['name'], response.json()['gender'])"
      ],
      "execution_count": 0,
      "outputs": []
    }
  ]
}