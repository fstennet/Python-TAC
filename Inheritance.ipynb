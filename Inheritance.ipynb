{
  "nbformat": 4,
  "nbformat_minor": 0,
  "metadata": {
    "colab": {
      "name": "Inheritance.ipynb",
      "version": "0.3.2",
      "provenance": [],
      "collapsed_sections": [],
      "include_colab_link": true
    },
    "language_info": {
      "codemirror_mode": {
        "name": "ipython",
        "version": 3
      },
      "file_extension": ".py",
      "mimetype": "text/x-python",
      "name": "python",
      "nbconvert_exporter": "python",
      "pygments_lexer": "ipython3",
      "version": "3.5.2"
    },
    "kernelspec": {
      "display_name": "Python 3",
      "language": "python",
      "name": "python3"
    }
  },
  "cells": [
    {
      "cell_type": "markdown",
      "metadata": {
        "id": "view-in-github",
        "colab_type": "text"
      },
      "source": [
        "<a href=\"https://colab.research.google.com/github/fstennet/Python-TAC/blob/master/Inheritance.ipynb\" target=\"_parent\"><img src=\"https://colab.research.google.com/assets/colab-badge.svg\" alt=\"Open In Colab\"/></a>"
      ]
    },
    {
      "metadata": {
        "id": "K2VsYkXYOmXA",
        "colab_type": "text"
      },
      "cell_type": "markdown",
      "source": [
        "# Inheritance\n",
        "\n",
        "Inheritance is a feature of `object-oriented programming` that allows you to create classes (`sub` classes) that obtain or derive attributes and methods from other classes (`super` classes).\n",
        "\n",
        "The following is an example of two classes: `Person` and `Employee`. The purpose of the classes is to create `Person` objects but also create Employee objects that derive or get the `firstname` and `lastname` attributes from the Person class in addition to the `Name()` method."
      ]
    },
    {
      "metadata": {
        "id": "BI9Xj868OmXC",
        "colab_type": "code",
        "colab": {
          "base_uri": "https://localhost:8080/",
          "height": 51
        },
        "outputId": "f39e9348-757f-44b5-c40f-00fbb627afcd"
      },
      "cell_type": "code",
      "source": [
        "class Person:  # Super class\n",
        "\n",
        "    def __init__(self, first, last):\n",
        "        self.firstname = first\n",
        "        self.lastname = last\n",
        "\n",
        "    def Name(self):\n",
        "        return self.firstname + \" \" + self.lastname\n",
        "\n",
        "class Employee(Person): # Derived class\n",
        "\n",
        "    def __init__(self, first, last, staffnum):\n",
        "        Person.__init__(self,first, last)\n",
        "        self.staffnumber = staffnum\n",
        "\n",
        "    def GetEmployee(self):\n",
        "        return self.Name() + \", \" +  self.staffnumber\n",
        "\n",
        "x = Person(\"Marge\", \"Simpson\")\n",
        "y = Employee(\"Homer\", \"Simpson\", \"1007\")\n",
        "\n",
        "print(x.Name())\n",
        "print(y.GetEmployee())\n"
      ],
      "execution_count": 1,
      "outputs": [
        {
          "output_type": "stream",
          "text": [
            "Marge Simpson\n",
            "Homer Simpson, 1007\n"
          ],
          "name": "stdout"
        }
      ]
    },
    {
      "metadata": {
        "id": "VuRo_mHgOmXF",
        "colab_type": "text"
      },
      "cell_type": "markdown",
      "source": [
        "## Multiple Inheritance\n",
        "This feature will allow you to inherit multiple class attributes and methods from a super class."
      ]
    },
    {
      "metadata": {
        "id": "PEF0PY0cOmXG",
        "colab_type": "code",
        "colab": {
          "base_uri": "https://localhost:8080/",
          "height": 85
        },
        "outputId": "c4ac3866-e08b-40c6-edeb-1bc734f159cb"
      },
      "cell_type": "code",
      "source": [
        "class technitian:\n",
        "    t_perk = 'Free Meals'\n",
        "class engineer:\n",
        "    e_perk = 'Payed Gas'\n",
        "class manager:\n",
        "    m_perk = 'Work from home'\n",
        "class director:\n",
        "    d_perk = 'Lexus RX450h 2019'\n",
        "class CEO(technitian, engineer, manager, director):\n",
        "    CEO_perks = [technitian.t_perk, \n",
        "                 engineer.e_perk, \n",
        "                 manager.m_perk, \n",
        "                 director.d_perk]\n",
        "    \n",
        "    def print_perks(self):\n",
        "        for p in a.CEO_perks:\n",
        "            print(p)\n",
        "    \n",
        "a = CEO()\n",
        "a.print_perks()"
      ],
      "execution_count": 2,
      "outputs": [
        {
          "output_type": "stream",
          "text": [
            "Free Meals\n",
            "Payed Gas\n",
            "Work from home\n",
            "Lexus RX450h 2019\n"
          ],
          "name": "stdout"
        }
      ]
    },
    {
      "metadata": {
        "id": "ILyo_NYGOmXJ",
        "colab_type": "text"
      },
      "cell_type": "markdown",
      "source": [
        "-----------------------------------------------------------------------------------------------------------------------------\n",
        "## Class Functions\n",
        "\n",
        "### issubclass()\n",
        "\n",
        "This `function` allows you to find out if a class is sub class of another class"
      ]
    },
    {
      "metadata": {
        "id": "WgF8DDAOOmXK",
        "colab_type": "code",
        "colab": {
          "base_uri": "https://localhost:8080/",
          "height": 51
        },
        "outputId": "dbb0f54d-df42-4b16-994d-b5a5cacf8c2d"
      },
      "cell_type": "code",
      "source": [
        "# Usage: \n",
        "# issubclass(subclass, superclass)\n",
        "\n",
        "# This results in True since Employee is a subclass of Person\n",
        "print(issubclass(Employee, Person))\n",
        "\n",
        "# The following returns False because Person is not a subclass of Employee\n",
        "print(issubclass(Person, Employee))"
      ],
      "execution_count": 3,
      "outputs": [
        {
          "output_type": "stream",
          "text": [
            "True\n",
            "False\n"
          ],
          "name": "stdout"
        }
      ]
    },
    {
      "metadata": {
        "id": "MM68Lc0lOmXM",
        "colab_type": "text"
      },
      "cell_type": "markdown",
      "source": [
        "### isinstance()\n",
        "This function allows you to find if an object is an instance of a class. The function returs `True` if the object is an instance of a class, returns `False` if not."
      ]
    },
    {
      "metadata": {
        "id": "9S9F5DvzOmXN",
        "colab_type": "code",
        "colab": {
          "base_uri": "https://localhost:8080/",
          "height": 85
        },
        "outputId": "260e3d69-005f-4dbe-b9c1-fd69744478e4"
      },
      "cell_type": "code",
      "source": [
        "class car:\n",
        "    def __init__(self, model):\n",
        "        self.model = model\n",
        "\n",
        "class dog:\n",
        "    def __init__(self, name):\n",
        "        self.name = name\n",
        "        \n",
        "c = car('Toyota')\n",
        "d = dog('Gas')\n",
        "\n",
        "print(isinstance(c, car))\n",
        "print(isinstance(d, dog))\n",
        "\n",
        "print(isinstance(d, car))\n",
        "print(isinstance(c, dog))"
      ],
      "execution_count": 4,
      "outputs": [
        {
          "output_type": "stream",
          "text": [
            "True\n",
            "True\n",
            "False\n",
            "False\n"
          ],
          "name": "stdout"
        }
      ]
    },
    {
      "metadata": {
        "id": "8CVX0UPYOmXQ",
        "colab_type": "text"
      },
      "cell_type": "markdown",
      "source": [
        "### hasattr()\n",
        "This function returns `True` if the object contains the attribute."
      ]
    },
    {
      "metadata": {
        "id": "RwVCxfr0OmXQ",
        "colab_type": "code",
        "colab": {
          "base_uri": "https://localhost:8080/",
          "height": 51
        },
        "outputId": "0f7a6b3c-2f7c-4b4d-ef25-f9cd77cadde4"
      },
      "cell_type": "code",
      "source": [
        "print(hasattr(a, 'model'))\n",
        "print(hasattr(c, 'model'))"
      ],
      "execution_count": 6,
      "outputs": [
        {
          "output_type": "stream",
          "text": [
            "False\n",
            "True\n"
          ],
          "name": "stdout"
        }
      ]
    },
    {
      "metadata": {
        "id": "RVgdXT_gOmXT",
        "colab_type": "text"
      },
      "cell_type": "markdown",
      "source": [
        "-------------------------------------------------------------------------------------------------------------------------------\n",
        "\n",
        "## Special Attributes\n",
        "\n",
        "Objects and classes have by default special attributes attributes like `__dict__`. This attribute prints out other attributes defined in the class\n"
      ]
    },
    {
      "metadata": {
        "id": "8af6LvIfOmXU",
        "colab_type": "code",
        "colab": {}
      },
      "cell_type": "code",
      "source": [
        "print(a.__dict__)\n",
        "print(c.__dict__)\n",
        "print(d.__dict__)\n",
        "print(x.__dict__)\n",
        "print(y.__dict__)"
      ],
      "execution_count": 0,
      "outputs": []
    }
  ]
}