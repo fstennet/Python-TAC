{
  "nbformat": 4,
  "nbformat_minor": 0,
  "metadata": {
    "colab": {
      "name": "Dictionary.ipynb",
      "version": "0.3.2",
      "provenance": [],
      "collapsed_sections": [],
      "include_colab_link": true
    },
    "kernelspec": {
      "display_name": "Python 3",
      "language": "python",
      "name": "python3"
    }
  },
  "cells": [
    {
      "cell_type": "markdown",
      "metadata": {
        "id": "view-in-github",
        "colab_type": "text"
      },
      "source": [
        "<a href=\"https://colab.research.google.com/github/fstennet/Python-TAC/blob/master/Dictionary.ipynb\" target=\"_parent\"><img src=\"https://colab.research.google.com/assets/colab-badge.svg\" alt=\"Open In Colab\"/></a>"
      ]
    },
    {
      "metadata": {
        "id": "v-Jce5h5y3ey",
        "colab_type": "text"
      },
      "cell_type": "markdown",
      "source": [
        "\n",
        "\n",
        "![](https://drive.google.com/uc?export=view&id=1_dOe2ECoAqab8p8GZDxh14lMA8BCaYcg)\n",
        "\n",
        "A *dictionary* is a data type that is indexed by keys. The easiest way to understand dictionaries is to think about it as a **key: value ** pair, just like a real world dictionary.\n",
        "\n",
        "## Real world dictionary:\n",
        "\n",
        "#### My Dictionary ####\n",
        "\n",
        "**Technology**: the application of scientific knowledge for practical purposes, especially in industry.\n",
        "\n",
        "**Car**: a road vehicle, typically with four wheels, powered by an internal combustion engine and able to carry a small number of people.\n",
        "\n",
        "**Object**: a material thing that can be seen and touched.\n",
        "\n",
        "**Thing**: an object that one need not, cannot, or does not wish to give a specific name to.\n",
        "\n",
        "## Python:"
      ]
    },
    {
      "metadata": {
        "id": "jyx6sqGcy3e0",
        "colab_type": "code",
        "colab": {}
      },
      "cell_type": "code",
      "source": [
        "my_dictionary = {\n",
        "        'Technology': 'the application of scientific knowledge for practical purposes, especially in industry.', \n",
        "        'Car': 'a road vehicle, typically with four wheels...', \n",
        "        'Object': 'a material thing that can be seen and touched.', \n",
        "        'Thing': 'an object that one need not, cannot, or does not wish to give a specific name to.'}\n",
        "print(my_dictionary)"
      ],
      "execution_count": 0,
      "outputs": []
    },
    {
      "metadata": {
        "id": "bTdVMyvBy3e3",
        "colab_type": "text"
      },
      "cell_type": "markdown",
      "source": [
        "In a dictionary there are two types of elements the **key** and the **value**. Our examples above show that *\"Technology\"* is a **key** and *\"the application of scientific knowledge for practical purposes, especially in industry.\"* is the **value**.\n",
        "\n",
        "The main operation on a dictionary is to store a value with some key and extracting the value given the key. The following script will print the definition (value) of the noun (key) entered by the user.\n",
        "\n",
        "### Example:"
      ]
    },
    {
      "metadata": {
        "id": "K9Bfpkpny3e4",
        "colab_type": "code",
        "colab": {}
      },
      "cell_type": "code",
      "source": [
        "query = input(\"Enter the world you want to look up: \")\n",
        "if query in my_dictionary:\n",
        "    print(\"The definition of the world \", query, \"is: \", my_dictionary[query])\n",
        "else:\n",
        "    print(\"Sorry, we don't have the definition for\", query)"
      ],
      "execution_count": 0,
      "outputs": []
    },
    {
      "metadata": {
        "id": "QSO6iT_7y3e7",
        "colab_type": "text"
      },
      "cell_type": "markdown",
      "source": [
        "Now, what if you wanted to **enter data** into a dictionary?\n",
        "\n",
        "### Example"
      ]
    },
    {
      "metadata": {
        "id": "jDpMbCJ8y3e8",
        "colab_type": "code",
        "colab": {}
      },
      "cell_type": "code",
      "source": [
        "new_word = input(\"Enter the word to be added: \")\n",
        "new_definition = input(\"Enter the definition: \")\n",
        "my_dictionary[new_word] = new_definition\n",
        "print(my_dictionary)"
      ],
      "execution_count": 0,
      "outputs": []
    },
    {
      "metadata": {
        "id": "Bz34xHNZy3e_",
        "colab_type": "text"
      },
      "cell_type": "markdown",
      "source": [
        "-----------------------------------------------------------------------------------------------------------------------------\n",
        "\n",
        "## Methods\n",
        "\n",
        "There are a few methods that help us **finding**, **deleting** and performing a few things on our dictionaries. Read [here](https://docs.python.org/3/library/stdtypes.html?highlight=pop#dict.pop) for more.\n",
        "\n",
        "### dict.pop()\n",
        "\n",
        "If key is in the dictionary, remove it."
      ]
    },
    {
      "metadata": {
        "id": "9KZ5HuW9y3fB",
        "colab_type": "code",
        "colab": {}
      },
      "cell_type": "code",
      "source": [
        "sp_dict = {\n",
        "        '1': 'Uno',\n",
        "        '2': 'Dos',\n",
        "        '3': 'Tres',\n",
        "        '4': 'Cuatro'}\n",
        "\n",
        "delete = input(\"Enter the number you want to delete: \")\n",
        "sp_dict.pop(delete)\n",
        "print(\"Number deleted\\n\\n\", sp_dict)"
      ],
      "execution_count": 0,
      "outputs": []
    },
    {
      "metadata": {
        "id": "b6SnDKViy3fE",
        "colab_type": "text"
      },
      "cell_type": "markdown",
      "source": [
        "Alternatively you could delete a key-value pair with del"
      ]
    },
    {
      "metadata": {
        "id": "eVJGUbzQy3fF",
        "colab_type": "code",
        "colab": {}
      },
      "cell_type": "code",
      "source": [
        "en_dict = {\n",
        "        '1': 'One',\n",
        "        '2': 'Two',\n",
        "        '3': 'Three',\n",
        "        '4': 'Four'}\n",
        "delete_en = input(\"Enter the number you want to delete: \")\n",
        "del en_dict[delete_en]\n",
        "print(en_dict)"
      ],
      "execution_count": 0,
      "outputs": []
    },
    {
      "metadata": {
        "id": "RyQ49M7ey3fI",
        "colab_type": "text"
      },
      "cell_type": "markdown",
      "source": [
        "-----------------------------------------------------------------------------------------------------------------------------\n",
        "\n",
        "### dict.keys()\n",
        "\n",
        "Returns a view of the dictionary's keys."
      ]
    },
    {
      "metadata": {
        "id": "5zb7xJbzy3fJ",
        "colab_type": "code",
        "colab": {}
      },
      "cell_type": "code",
      "source": [
        "ch_dict = {\n",
        "        '1': '一',\n",
        "        '2': '二',\n",
        "        '3': '三',\n",
        "        '4': '四'}\n",
        "print(ch_dict.keys())  \n",
        "for key in ch_dict.keys():\n",
        "    print(key)"
      ],
      "execution_count": 0,
      "outputs": []
    },
    {
      "metadata": {
        "id": "I79ATyWUy3fM",
        "colab_type": "text"
      },
      "cell_type": "markdown",
      "source": [
        "-----------------------------------------------------------------------------------------------------------------------------\n",
        "\n",
        "### dict.items()\n",
        "\n",
        "Returns a view of the dictionary's keys and values."
      ]
    },
    {
      "metadata": {
        "id": "F4YoCE7my3fN",
        "colab_type": "code",
        "colab": {}
      },
      "cell_type": "code",
      "source": [
        "fr_dict = {\n",
        "        '1': 'Un',\n",
        "        '2': 'Doix',\n",
        "        '3': 'Trois',\n",
        "        '4': 'Quatre'}\n",
        "print(fr_dict.items()) \n",
        "for key, value in fr_dict.items():\n",
        "    print(key, '---->', value)\n"
      ],
      "execution_count": 0,
      "outputs": []
    },
    {
      "metadata": {
        "id": "hdlnj2vyy3fP",
        "colab_type": "text"
      },
      "cell_type": "markdown",
      "source": [
        "-----------------------------------------------------------------------------------------------------------------------------\n",
        "\n",
        "### dict.values()\n",
        "\n",
        "Returns a view of the dictionary's values."
      ]
    },
    {
      "metadata": {
        "id": "ZaTYH_0by3fR",
        "colab_type": "code",
        "colab": {}
      },
      "cell_type": "code",
      "source": [
        "gr_dict = {\n",
        "        '1': 'Eins',\n",
        "        '2': 'Zwei',\n",
        "        '3': 'Drei',\n",
        "        '4': 'Vier'}\n",
        "print(gr_dict.values()) \n",
        "for  value in gr_dict.items():\n",
        "    print(value)"
      ],
      "execution_count": 0,
      "outputs": []
    }
  ]
}